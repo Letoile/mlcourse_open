{
 "cells": [
  {
   "cell_type": "markdown",
   "metadata": {},
   "source": [
    "<center>\n",
    "<img src=\"../../img/ods_stickers.jpg\">\n",
    "## Открытый курс по машинному обучению\n",
    "</center>\n",
    "<center>Автор материала: программист-исследователь Mail.ru Group, старший преподаватель <br>Факультета Компьютерных Наук ВШЭ Юрий Кашницкий"
   ]
  },
  {
   "cell_type": "markdown",
   "metadata": {},
   "source": [
    "# <center> Домашнее задание № 8. Часть 1\n",
    "## <center> Реализация алгоритмов онлайн-обучения"
   ]
  },
  {
   "cell_type": "markdown",
   "metadata": {},
   "source": [
    "В первой части задания вам предлагается реализовать два алгоритма – регрессор и классификатор, обучаемые стохастическим градиентным спуском (Stochastic Gradient Descent, SGD). [Веб-форма](https://goo.gl/forms/z8zENbMiaEAeB7nG3) для ответов."
   ]
  },
  {
   "cell_type": "markdown",
   "metadata": {},
   "source": [
    "## План 1 части домашнего задания\n",
    "    1.1. Линейная регрессия и SGD\n",
    "    1.2. Логистическая регрессия и SGD\n",
    "    1.3. Логистическая регрессия и SGDClassifier в задаче классификации отзывов к фильмам"
   ]
  },
  {
   "cell_type": "markdown",
   "metadata": {},
   "source": [
    "В [статье](https://habrahabr.ru/company/ods/blog/326418/) было описано, как таким образом обучать регрессор, т.е. минимизировать квадратичную функцию потерь. Реализуем этот алгоритм."
   ]
  },
  {
   "cell_type": "markdown",
   "metadata": {},
   "source": [
    "Вначале проверим версии библиотек с помощью расширения [watermark](https://github.com/rasbt/watermark). Заодно и Vowpal Wabbit, который понадобится во 2 части задания – версия должна быть последняя на момент написания, 8.3.2."
   ]
  },
  {
   "cell_type": "code",
   "execution_count": 1,
   "metadata": {
    "collapsed": false
   },
   "outputs": [],
   "source": [
    "#pip install watermark\n",
    "%load_ext watermark"
   ]
  },
  {
   "cell_type": "code",
   "execution_count": 2,
   "metadata": {
    "collapsed": false
   },
   "outputs": [
    {
     "name": "stdout",
     "output_type": "stream",
     "text": [
      "CPython 3.6.0\n",
      "IPython 5.1.0\n",
      "\n",
      "numpy 1.11.3\n",
      "scipy 0.18.1\n",
      "pandas 0.19.2\n",
      "matplotlib 2.0.0\n",
      "sklearn 0.18.1\n",
      "\n",
      "compiler   : GCC 4.4.7 20120313 (Red Hat 4.4.7-1)\n",
      "system     : Linux\n",
      "release    : 4.8.0-46-generic\n",
      "machine    : x86_64\n",
      "processor  : x86_64\n",
      "CPU cores  : 4\n",
      "interpreter: 64bit\n"
     ]
    }
   ],
   "source": [
    "%watermark -v -m -p numpy,scipy,pandas,matplotlib,sklearn "
   ]
  },
  {
   "cell_type": "code",
   "execution_count": 3,
   "metadata": {
    "collapsed": false
   },
   "outputs": [
    {
     "name": "stdout",
     "output_type": "stream",
     "text": [
      "8.3.2\r\n"
     ]
    }
   ],
   "source": [
    "!vw --version"
   ]
  },
  {
   "cell_type": "markdown",
   "metadata": {},
   "source": [
    "##  1.1. Линейная регрессия и SGD"
   ]
  },
  {
   "cell_type": "code",
   "execution_count": 1,
   "metadata": {
    "collapsed": false
   },
   "outputs": [],
   "source": [
    "import numpy as np\n",
    "import pandas as pd\n",
    "from tqdm import tqdm\n",
    "from sklearn.base import BaseEstimator\n",
    "from sklearn.metrics import mean_squared_error, log_loss, roc_auc_score\n",
    "from sklearn.model_selection import train_test_split\n",
    "%matplotlib inline\n",
    "from matplotlib import pyplot as plt\n",
    "import seaborn as sns\n",
    "from sklearn.preprocessing import StandardScaler"
   ]
  },
  {
   "cell_type": "markdown",
   "metadata": {},
   "source": [
    "Реализуйте класс `SGDRegressor`. Спецификация:\n",
    "- класс наследуется от `sklearn.base.BaseEstimator`\n",
    "- конструктор принимает параметры `eta` – шаг градиентного спуска (по умолчанию $10^{-3}$) и `n_iter` – число проходов по выборке (по умолчанию 10)\n",
    "- также в конструкторе должны создаваться списки `mse_` и `weights_` для отслеживания значений среднеквадратичной ошибки и вектора весов по итерациям градиентного спуска\n",
    "- Класс имеет методы `fit` и `predict`\n",
    "- Метод `fit` принимает матрицу `X` и вектор `y` (объекты `numpy.array`), добавляет к матрице `X` слева столбец из единиц, инициализирует вектор весов `w` **нулями** и в цикле с числом итераций `n_iter` обновляет веса (см. [статью](https://habrahabr.ru/company/ods/blog/326418/)), а также записывает получившиеся на данной итерации значения среднеквадратичной ошибки (именно MSE, SE слишком большими будут) и вектор весов `w` в предназначенные для этого списки. \n",
    "- В конце метод `fit` создает переменную `w_`, в которой хранится тот вектор весов, при котором ошибка минимальна\n",
    "- Метод `fit` должен возвращать текущий экземпляр класса `SGDRegressor`, т.е. `self`\n",
    "- Метод `predict` принимает матрицу `X`, добавляет к ней слева столбец из единиц и возвращает вектор прогнозов модели, используя созданный методом `fit` вектор весов `w_`."
   ]
  },
  {
   "cell_type": "code",
   "execution_count": 29,
   "metadata": {
    "collapsed": true
   },
   "outputs": [],
   "source": [
    "class SGDRegressor(BaseEstimator):\n",
    "    ''' ВАШ КОД ЗДЕСЬ '''\n",
    "    w_ = None\n",
    "    \n",
    "    def __init__(self, eta = 0.001, n_iter = 10):\n",
    "        self.eta = eta\n",
    "        self.n_iter = n_iter\n",
    "        self.mse_ = list()\n",
    "        self.weights_ = list()\n",
    "        \n",
    "    def fit(self, X, y):\n",
    "        rows = len(X)\n",
    "        X_bias = X\n",
    "        X_bias = np.insert(X_bias,0,1, axis=1)\n",
    "        columns = len(X_bias.T)\n",
    "        w = [0 for i in range(columns)]\n",
    "        weights = list()\n",
    "        \n",
    "        for i in range(self.n_iter):\n",
    "            for j in range(rows):\n",
    "                h = w[0] + w[1]*X_bias[j,1]\n",
    "                w[0] = w[0] + self.eta*(y[j]-h)\n",
    "                w[1] = w[1] + self.eta*(y[j]-h)*X_bias[j,1]\n",
    "                \n",
    "                weights.append(list(w))\n",
    "                y_pred = np.cumsum(w*X_bias, axis=1)[:,1]\n",
    "                self.mse_.append(mean_squared_error(y,y_pred))\n",
    "        self.weights_ = weights        \n",
    "        min_index = self.mse_.index(min(self.mse_))    \n",
    "        self.w_ = weights[min_index]\n",
    "        return self\n",
    "    \n",
    "    def predict(self, X):\n",
    "        X_bias = X\n",
    "        X_bias = np.insert(X_bias,0,1, axis=1)\n",
    "        return np.cumsum(self.w_*X_bias, axis=1)[:,1]"
   ]
  },
  {
   "cell_type": "markdown",
   "metadata": {},
   "source": [
    "Проверим работу алгоритма на данных по росту и весу. Будем прогнозировать рост (в дюймах) по весу (в фунтах)."
   ]
  },
  {
   "cell_type": "code",
   "execution_count": 3,
   "metadata": {
    "collapsed": true
   },
   "outputs": [],
   "source": [
    "data_demo = pd.read_csv('../../data/weights_heights.csv')"
   ]
  },
  {
   "cell_type": "code",
   "execution_count": 4,
   "metadata": {
    "collapsed": false,
    "scrolled": true
   },
   "outputs": [
    {
     "data": {
      "image/png": "[encoded data removed]",
      "text/plain": [
       "<matplotlib.figure.Figure at 0x7f913dedabe0>"
      ]
     },
     "metadata": {},
     "output_type": "display_data"
    }
   ],
   "source": [
    "plt.scatter(data_demo['Weight'], data_demo['Height']);\n",
    "plt.xlabel('Вес (фунты)')\n",
    "plt.ylabel('Рост (дюймы)');"
   ]
  },
  {
   "cell_type": "code",
   "execution_count": 5,
   "metadata": {
    "collapsed": true
   },
   "outputs": [],
   "source": [
    "X, y = data_demo['Weight'].values, data_demo['Height'].values"
   ]
  },
  {
   "cell_type": "markdown",
   "metadata": {},
   "source": [
    "Выделим 70% под обучение, 30% – под проверку и масштабируем выборку."
   ]
  },
  {
   "cell_type": "code",
   "execution_count": 6,
   "metadata": {
    "collapsed": true
   },
   "outputs": [],
   "source": [
    "X_train, X_valid, y_train, y_valid = train_test_split(X, y,\n",
    "                                                     test_size=0.3,\n",
    "                                                     random_state=17)"
   ]
  },
  {
   "cell_type": "code",
   "execution_count": 7,
   "metadata": {
    "collapsed": true
   },
   "outputs": [],
   "source": [
    "scaler = StandardScaler()\n",
    "X_train_scaled = scaler.fit_transform(X_train.reshape([X_train.shape[0], 1]))\n",
    "X_valid_scaled = scaler.transform(X_valid.reshape([X_valid.shape[0], 1]))"
   ]
  },
  {
   "cell_type": "markdown",
   "metadata": {},
   "source": [
    "Обучите созданный вами `SGDRegressor` на выборке `(X_train_scaled, y_train)`. Параметры оставьте по умолчанию."
   ]
  },
  {
   "cell_type": "code",
   "execution_count": 30,
   "metadata": {
    "collapsed": false
   },
   "outputs": [],
   "source": [
    "''' ВАШ КОД ЗДЕСЬ '''\n",
    "est = SGDRegressor()\n",
    "fitted = est.fit(X_train_scaled, y_train)"
   ]
  },
  {
   "cell_type": "code",
   "execution_count": 31,
   "metadata": {
    "collapsed": false,
    "scrolled": true
   },
   "outputs": [
    {
     "data": {
      "text/plain": [
       "[4616.8529206557669,\n",
       " 4608.3375526145255,\n",
       " 4598.768933110513,\n",
       " 4589.6238426350819,\n",
       " 4580.3012281872961,\n",
       " 4571.6400797392653,\n",
       " 4561.8011722001438,\n",
       " 4552.4239520745223,\n",
       " 4543.2913135484087,\n",
       " 4534.2473812372291,\n",
       " 4525.1795855814435,\n",
       " 4515.5790154605638,\n",
       " 4507.0600778240632,\n",
       " 4497.6642671194095,\n",
       " 4488.3535206876622,\n",
       " 4479.4885414455184,\n",
       " 4470.5238585418865,\n",
       " 4461.9406932694974,\n",
       " 4453.1646041783797,\n",
       " 4444.2000360303718,\n",
       " 4435.2433177892208,\n",
       " 4425.8916005069495,\n",
       " 4417.5909835496268,\n",
       " 4408.7999401251727,\n",
       " 4400.4683298597165,\n",
       " 4391.8690197349097,\n",
       " 4383.1110261165768,\n",
       " 4373.8379599078453,\n",
       " 4364.3451454380966,\n",
       " 4356.270791417086,\n",
       " 4347.72366968802,\n",
       " 4338.7476408927514,\n",
       " 4330.4559750881263,\n",
       " 4321.5505552580362,\n",
       " 4313.9630315355907,\n",
       " 4304.9159894515333,\n",
       " 4296.3027236845182,\n",
       " 4288.0131901494397,\n",
       " 4279.4093925868101,\n",
       " 4270.2878062971049,\n",
       " 4261.454002522366,\n",
       " 4252.8484669877053,\n",
       " 4244.4782610131024,\n",
       " 4236.6110989543531,\n",
       " 4228.6629700394169,\n",
       " 4220.0899502044558,\n",
       " 4211.2367378547488,\n",
       " 4203.3610336947158,\n",
       " 4195.4437998547646,\n",
       " 4186.9441643541404,\n",
       " 4178.840550467241,\n",
       " 4170.4761053812726,\n",
       " 4161.9135814564415,\n",
       " 4153.567141788345,\n",
       " 4144.9721663916471,\n",
       " 4138.4807991165362,\n",
       " 4130.3614035189312,\n",
       " 4122.1416642332915,\n",
       " 4113.6291088375465,\n",
       " 4105.8336351113358,\n",
       " 4097.9265656045382,\n",
       " 4089.4678493191191,\n",
       " 4080.8291892009174,\n",
       " 4072.4961199127301,\n",
       " 4064.343707008898,\n",
       " 4056.4171551966174,\n",
       " 4048.9247075038875,\n",
       " 4041.6031089528142,\n",
       " 4034.0730085522541,\n",
       " 4026.1446970386269,\n",
       " 4018.2481159798504,\n",
       " 4008.9519609405552,\n",
       " 4001.0187964199126,\n",
       " 3992.6688766033494,\n",
       " 3984.5709620343164,\n",
       " 3977.0180355344978,\n",
       " 3969.2922567000373,\n",
       " 3961.4279831911531,\n",
       " 3953.5924507862383,\n",
       " 3945.9096948392348,\n",
       " 3938.7907011191164,\n",
       " 3930.9641375057372,\n",
       " 3924.000051830727,\n",
       " 3915.6521129172761,\n",
       " 3907.3753975030072,\n",
       " 3899.5604523304623,\n",
       " 3892.0724111851418,\n",
       " 3884.7547080298041,\n",
       " 3876.9846471711398,\n",
       " 3869.5221225933597,\n",
       " 3860.6911691748192,\n",
       " 3853.9648116630765,\n",
       " 3846.0609109733546,\n",
       " 3838.4730358518914,\n",
       " 3831.1164854673907,\n",
       " 3823.5555083112777,\n",
       " 3815.5361929389433,\n",
       " 3806.6944531751355,\n",
       " 3799.4487810616138,\n",
       " 3790.9768563590042,\n",
       " 3783.6485626418976,\n",
       " 3775.899771820672,\n",
       " 3767.7750571631177,\n",
       " 3761.1947855261533,\n",
       " 3753.9572242842719,\n",
       " 3746.4521536460657,\n",
       " 3739.0748724272594,\n",
       " 3731.6327843634335,\n",
       " 3724.3553858544597,\n",
       " 3716.7172461754108,\n",
       " 3709.181128948122,\n",
       " 3701.8977815635685,\n",
       " 3694.6673510300288,\n",
       " 3687.7430550202093,\n",
       " 3679.7929979906226,\n",
       " 3671.7837569810958,\n",
       " 3663.8748406070358,\n",
       " 3656.7728718873091,\n",
       " 3649.1501876453094,\n",
       " 3641.7199540797083,\n",
       " 3634.4281250471786,\n",
       " 3627.0548516276544,\n",
       " 3619.0715422193557,\n",
       " 3611.3822680985495,\n",
       " 3603.7865679828597,\n",
       " 3596.0110592657752,\n",
       " 3588.0734517034543,\n",
       " 3581.4433702303436,\n",
       " 3574.7117452290177,\n",
       " 3567.3227913365063,\n",
       " 3560.7654259738129,\n",
       " 3553.7566358948475,\n",
       " 3546.879201633742,\n",
       " 3539.9188777783315,\n",
       " 3532.9977068412695,\n",
       " 3525.6870742248425,\n",
       " 3518.3278748249968,\n",
       " 3511.8831084038661,\n",
       " 3504.8670519176012,\n",
       " 3497.9631239911441,\n",
       " 3490.0770057633781,\n",
       " 3482.940222164239,\n",
       " 3476.5107442190656,\n",
       " 3469.1147812582235,\n",
       " 3461.9037773832915,\n",
       " 3454.5867093966317,\n",
       " 3447.6459415345494,\n",
       " 3440.2495763891325,\n",
       " 3433.5282894905954,\n",
       " 3427.2635026931375,\n",
       " 3420.3305057855346,\n",
       " 3413.8499619744612,\n",
       " 3406.7725480790264,\n",
       " 3400.0205632108468,\n",
       " 3393.2978236365821,\n",
       " 3386.6759247757786,\n",
       " 3380.2208069401518,\n",
       " 3372.7868609901607,\n",
       " 3366.0066695595042,\n",
       " 3359.6093219214295,\n",
       " 3352.8220795953166,\n",
       " 3346.6138666505663,\n",
       " 3339.6139409239759,\n",
       " 3332.830875895283,\n",
       " 3326.3825922150104,\n",
       " 3319.0944848544536,\n",
       " 3312.6282373896456,\n",
       " 3306.2136785174075,\n",
       " 3298.5499092581808,\n",
       " 3291.9427059155532,\n",
       " 3284.9914734480008,\n",
       " 3278.392864299442,\n",
       " 3272.0911534218258,\n",
       " 3265.6198066341012,\n",
       " 3258.32814528685,\n",
       " 3251.9907882983844,\n",
       " 3245.2713600544125,\n",
       " 3238.2664063211255,\n",
       " 3231.8521594348117,\n",
       " 3225.2598090036004,\n",
       " 3219.3726978325135,\n",
       " 3212.8919391234831,\n",
       " 3206.9741463057876,\n",
       " 3200.6585049214123,\n",
       " 3194.4171012039365,\n",
       " 3188.3986486377466,\n",
       " 3181.4767719868237,\n",
       " 3175.1562709396026,\n",
       " 3169.420136320231,\n",
       " 3162.5944196831579,\n",
       " 3156.1824064538723,\n",
       " 3149.7927214886322,\n",
       " 3143.3332206340115,\n",
       " 3137.4470487525509,\n",
       " 3131.0077324135382,\n",
       " 3124.8799692647763,\n",
       " 3118.5640480115626,\n",
       " 3112.4646909316857,\n",
       " 3106.4655210649598,\n",
       " 3099.8547261385829,\n",
       " 3093.7294009950024,\n",
       " 3087.5992956940258,\n",
       " 3081.0356348973551,\n",
       " 3074.949595470312,\n",
       " 3068.5959026064952,\n",
       " 3062.5373025895142,\n",
       " 3056.8658132279356,\n",
       " 3050.9216752812486,\n",
       " 3044.811377438964,\n",
       " 3038.4073820736035,\n",
       " 3032.1603455281465,\n",
       " 3025.5583408641705,\n",
       " 3019.676010070858,\n",
       " 3013.6124915337332,\n",
       " 3007.7249777212978,\n",
       " 3001.7668334911605,\n",
       " 2995.9748333213856,\n",
       " 2989.9826880865999,\n",
       " 2983.8660775902749,\n",
       " 2977.9870600763002,\n",
       " 2971.9131507335492,\n",
       " 2965.918774830875,\n",
       " 2959.9025378756173,\n",
       " 2954.5746029030106,\n",
       " 2948.5971435377319,\n",
       " 2942.3596813502991,\n",
       " 2936.3962669017419,\n",
       " 2930.4529644426543,\n",
       " 2924.5305799369216,\n",
       " 2918.3317565429838,\n",
       " 2912.6470912086907,\n",
       " 2907.0846935799782,\n",
       " 2901.3071386445654,\n",
       " 2895.5838354655293,\n",
       " 2889.9433530752158,\n",
       " 2884.2455057458887,\n",
       " 2878.778139097969,\n",
       " 2873.2448939530846,\n",
       " 2867.6352287794371,\n",
       " 2862.1207850242013,\n",
       " 2856.3120583076907,\n",
       " 2850.5738449596265,\n",
       " 2845.1866885112227,\n",
       " 2839.6681968315656,\n",
       " 2833.7386813509884,\n",
       " 2828.2927360545241,\n",
       " 2822.5649574291265,\n",
       " 2816.9296385840389,\n",
       " 2811.5086630613891,\n",
       " 2805.9823389209419,\n",
       " 2800.5090800229591,\n",
       " 2794.7178121721313,\n",
       " 2788.8776265812289,\n",
       " 2783.49707055308,\n",
       " 2777.8876798878687,\n",
       " 2772.1705592515714,\n",
       " 2766.5253550618795,\n",
       " 2760.9781727555155,\n",
       " 2755.3901702458775,\n",
       " 2749.6881148639154,\n",
       " 2743.9110163955088,\n",
       " 2738.4903121904608,\n",
       " 2732.8818395452863,\n",
       " 2727.6124326030854,\n",
       " 2721.7926737548246,\n",
       " 2716.2570491406536,\n",
       " 2710.6902959735626,\n",
       " 2705.3702482382059,\n",
       " 2699.9087526926455,\n",
       " 2694.5673926287445,\n",
       " 2689.2611740065786,\n",
       " 2683.5952059968604,\n",
       " 2678.133637483144,\n",
       " 2672.6142488455594,\n",
       " 2667.5893468903901,\n",
       " 2662.0749195568837,\n",
       " 2656.6065967717409,\n",
       " 2651.2607731391208,\n",
       " 2646.0349568041961,\n",
       " 2641.0205197620894,\n",
       " 2635.8662232843503,\n",
       " 2630.6409164663178,\n",
       " 2625.1045032575212,\n",
       " 2619.8837159186101,\n",
       " 2614.461302998759,\n",
       " 2609.1378438963038,\n",
       " 2603.9740371154949,\n",
       " 2598.6005543657175,\n",
       " 2593.2028156323613,\n",
       " 2587.908436528553,\n",
       " 2582.5202214691149,\n",
       " 2576.9837084750061,\n",
       " 2571.5761003459875,\n",
       " 2566.3096058181209,\n",
       " 2561.4382385821646,\n",
       " 2556.0897006728651,\n",
       " 2551.0000782510756,\n",
       " 2545.9669904201905,\n",
       " 2540.919109055199,\n",
       " 2535.9971750187369,\n",
       " 2531.054963400351,\n",
       " 2525.9394998532712,\n",
       " 2520.7576414094319,\n",
       " 2515.8872072423337,\n",
       " 2510.8184463014327,\n",
       " 2506.0394598484895,\n",
       " 2500.9418174608377,\n",
       " 2496.1075433316651,\n",
       " 2490.8191206863453,\n",
       " 2486.0711833566311,\n",
       " 2480.9639072809746,\n",
       " 2476.2667235604517,\n",
       " 2471.4872172890059,\n",
       " 2466.4178829979392,\n",
       " 2461.3429905692692,\n",
       " 2456.3965555118812,\n",
       " 2451.40024173444,\n",
       " 2446.3077208795335,\n",
       " 2441.2167136966059,\n",
       " 2436.7321976729731,\n",
       " 2431.9241504033748,\n",
       " 2427.2861047715637,\n",
       " 2422.4516264592735,\n",
       " 2417.811574175957,\n",
       " 2412.6262185233163,\n",
       " 2407.778184644545,\n",
       " 2402.8890270000361,\n",
       " 2398.3908281609492,\n",
       " 2394.0275900867759,\n",
       " 2389.4838032906268,\n",
       " 2385.0508183272182,\n",
       " 2380.3783409110174,\n",
       " 2375.3429302554159,\n",
       " 2370.4875806554805,\n",
       " 2365.8557945145235,\n",
       " 2360.9635735028887,\n",
       " 2356.0858787719098,\n",
       " 2351.3195703113138,\n",
       " 2346.5884124564113,\n",
       " 2341.7610724197871,\n",
       " 2336.9814128793096,\n",
       " 2332.2744222812184,\n",
       " 2327.5036651087635,\n",
       " 2322.8920966488431,\n",
       " 2318.1607316725413,\n",
       " 2313.8457628857491,\n",
       " 2308.7370004349568,\n",
       " 2304.0071293872265,\n",
       " 2299.1331557013314,\n",
       " 2294.8224746710216,\n",
       " 2290.1755413986084,\n",
       " 2285.8180558845247,\n",
       " 2281.2604606986733,\n",
       " 2276.8094539199092,\n",
       " 2272.3203640189886,\n",
       " 2267.6388083478018,\n",
       " 2263.2105249989854,\n",
       " 2258.7741261595502,\n",
       " 2254.2923252941396,\n",
       " 2249.5898665283175,\n",
       " 2245.1735348640314,\n",
       " 2240.528957170628,\n",
       " 2236.353386340124,\n",
       " 2232.1490123145659,\n",
       " 2227.4623630988617,\n",
       " 2223.0205485703686,\n",
       " 2218.3860903698974,\n",
       " 2213.9175992418936,\n",
       " 2209.5819459886088,\n",
       " 2204.976767063305,\n",
       " 2200.5274629583496,\n",
       " 2196.2494795178582,\n",
       " 2191.7285542089217,\n",
       " 2187.1977080541601,\n",
       " 2182.8511008260953,\n",
       " 2178.4842623972336,\n",
       " 2173.9077448395228,\n",
       " 2169.5478457399927,\n",
       " 2165.0385253768241,\n",
       " 2160.7893773209348,\n",
       " 2156.235255489577,\n",
       " 2151.987094996874,\n",
       " 2147.6753465900679,\n",
       " 2143.445244767503,\n",
       " 2139.2855270224309,\n",
       " 2134.9663836219697,\n",
       " 2130.6855665532271,\n",
       " 2126.7357185766268,\n",
       " 2122.5694579561164,\n",
       " 2118.557852838906,\n",
       " 2114.2121287649748,\n",
       " 2110.0176653203648,\n",
       " 2105.6337746824465,\n",
       " 2101.6427751478377,\n",
       " 2097.1116231688338,\n",
       " 2092.8974551291353,\n",
       " 2088.5859315345906,\n",
       " 2084.575077687457,\n",
       " 2080.4323869689033,\n",
       " 2076.2274951438903,\n",
       " 2071.892992545384,\n",
       " 2067.6739027394656,\n",
       " 2063.5931023372696,\n",
       " 2059.366986828165,\n",
       " 2055.3916991424176,\n",
       " 2051.3121325375373,\n",
       " 2047.2046143018019,\n",
       " 2043.2526185272791,\n",
       " 2039.3371882552517,\n",
       " 2035.4084873940203,\n",
       " 2031.2814069483381,\n",
       " 2027.3282967142122,\n",
       " 2023.4140307667928,\n",
       " 2019.4525439838069,\n",
       " 2015.3278168151166,\n",
       " 2011.2488717965939,\n",
       " 2007.5542962262459,\n",
       " 2003.5081846933808,\n",
       " 1999.5368886982037,\n",
       " 1995.5550232123655,\n",
       " 1991.6892271270965,\n",
       " 1987.5450094537425,\n",
       " 1983.4497051168871,\n",
       " 1979.5065918078355,\n",
       " 1975.4971138234628,\n",
       " 1971.4882974874718,\n",
       " 1967.1915963509916,\n",
       " 1963.3462018470352,\n",
       " 1959.496801237593,\n",
       " 1955.7095219554544,\n",
       " 1951.7640896817059,\n",
       " 1947.7920641580274,\n",
       " 1943.6980506889718,\n",
       " 1939.9080447747065,\n",
       " 1936.112306149631,\n",
       " 1932.1425760051332,\n",
       " 1928.3959760633149,\n",
       " 1924.3912023037399,\n",
       " 1920.3651473225211,\n",
       " 1916.4716480539857,\n",
       " 1912.736941415455,\n",
       " 1908.8191444187664,\n",
       " 1904.9526039367574,\n",
       " 1901.2668727624753,\n",
       " 1897.4923868212152,\n",
       " 1893.5591871338113,\n",
       " 1889.5568965971086,\n",
       " 1885.984535899705,\n",
       " 1882.4045901086668,\n",
       " 1878.7902417036712,\n",
       " 1875.3055177221431,\n",
       " 1871.5065199848136,\n",
       " 1867.6730977042303,\n",
       " 1863.7807246688715,\n",
       " 1859.7840202002524,\n",
       " 1856.2077546901126,\n",
       " 1852.2297394884738,\n",
       " 1848.5338086629049,\n",
       " 1844.6373375690332,\n",
       " 1841.1307463414712,\n",
       " 1837.5080460789975,\n",
       " 1833.8526642639983,\n",
       " 1830.3831155990604,\n",
       " 1826.7798313428627,\n",
       " 1823.0651574835408,\n",
       " 1819.4418648377884,\n",
       " 1815.5942434847411,\n",
       " 1812.0663028926544,\n",
       " 1808.2865215042843,\n",
       " 1804.7909638001242,\n",
       " 1801.1793890471433,\n",
       " 1797.6800588337328,\n",
       " 1794.0778373827695,\n",
       " 1790.5859400053796,\n",
       " 1786.8275108734122,\n",
       " 1783.1854907082381,\n",
       " 1779.4637627853317,\n",
       " 1775.965152848348,\n",
       " 1772.6840236354108,\n",
       " 1769.0412457674856,\n",
       " 1765.530733318345,\n",
       " 1762.3481447897559,\n",
       " 1758.7636548793928,\n",
       " 1755.0587108139509,\n",
       " 1751.4964177572376,\n",
       " 1747.7500969435253,\n",
       " 1744.3064874838565,\n",
       " 1741.0686798317238,\n",
       " 1737.6165628899607,\n",
       " 1734.3791649934931,\n",
       " 1730.9086294516185,\n",
       " 1727.5401471626756,\n",
       " 1724.0196143691896,\n",
       " 1720.4104733097781,\n",
       " 1717.0534747843765,\n",
       " 1713.7097173344259,\n",
       " 1710.3082983327606,\n",
       " 1707.0745512111569,\n",
       " 1703.5792630722726,\n",
       " 1700.0395070817583,\n",
       " 1696.6986533022771,\n",
       " 1693.1617544803385,\n",
       " 1689.7868100319886,\n",
       " 1686.1125930793376,\n",
       " 1682.5965062509465,\n",
       " 1679.3815814862241,\n",
       " 1676.2986499156514,\n",
       " 1673.0048483932153,\n",
       " 1669.6614358139796,\n",
       " 1666.333525564494,\n",
       " 1663.1302159568534,\n",
       " 1659.7886003729889,\n",
       " 1656.5620133554648,\n",
       " 1653.1770215183496,\n",
       " 1650.1299498345493,\n",
       " 1646.8927628769277,\n",
       " 1643.6597852234481,\n",
       " 1640.3528189086119,\n",
       " 1636.9223359789214,\n",
       " 1633.3932067816149,\n",
       " 1630.0972842324397,\n",
       " 1626.3543286397478,\n",
       " 1623.0225233509523,\n",
       " 1619.7225409169141,\n",
       " 1616.6120663270526,\n",
       " 1613.4648082619526,\n",
       " 1610.0099351776933,\n",
       " 1606.8567602452408,\n",
       " 1603.7656395535325,\n",
       " 1600.4404731659179,\n",
       " 1597.1395245331291,\n",
       " 1593.960205611603,\n",
       " 1590.7025864187306,\n",
       " 1587.5498855421336,\n",
       " 1584.5201603204703,\n",
       " 1581.3419222743385,\n",
       " 1578.1858213505504,\n",
       " 1575.0822850232771,\n",
       " 1572.018002787152,\n",
       " 1568.7786041941897,\n",
       " 1565.3581770890544,\n",
       " 1562.1927951783821,\n",
       " 1559.2385538746005,\n",
       " 1556.2467065731237,\n",
       " 1553.1801728062865,\n",
       " 1550.1678793730994,\n",
       " 1547.024971375994,\n",
       " 1543.9022326625525,\n",
       " 1540.9098698144201,\n",
       " 1537.6345693555922,\n",
       " 1534.6429620622778,\n",
       " 1531.5686961166882,\n",
       " 1528.4600762208097,\n",
       " 1525.5374539685124,\n",
       " 1522.3950433199852,\n",
       " 1519.1449371790618,\n",
       " 1515.9977198700565,\n",
       " 1512.8488005160189,\n",
       " 1509.6774930516067,\n",
       " 1506.6694585632943,\n",
       " 1503.7205943133988,\n",
       " 1500.756448226075,\n",
       " 1497.6681475427015,\n",
       " 1494.53226911667,\n",
       " 1491.6338537535332,\n",
       " 1488.8165529365608,\n",
       " 1485.6656007089077,\n",
       " 1482.3513869525013,\n",
       " 1479.6942619206548,\n",
       " 1476.6102201421104,\n",
       " 1473.5539061675886,\n",
       " 1470.582042756791,\n",
       " 1467.4049813089009,\n",
       " 1464.6428283461614,\n",
       " 1461.8359934030962,\n",
       " 1458.695040050126,\n",
       " 1455.8177601706611,\n",
       " 1452.7327754406008,\n",
       " 1449.7987739803314,\n",
       " 1446.9957570711574,\n",
       " 1443.8984478320513,\n",
       " 1441.0267022727294,\n",
       " 1438.1479222912958,\n",
       " 1435.0119784969286,\n",
       " 1432.0898688291948,\n",
       " 1429.4186663677146,\n",
       " 1426.3803071944881,\n",
       " 1423.7232288682942,\n",
       " 1420.8193900457939,\n",
       " 1417.8924991191138,\n",
       " 1414.9456626075171,\n",
       " 1412.4857531873115,\n",
       " 1409.9370504966764,\n",
       " 1407.0740334454526,\n",
       " 1404.3065914717536,\n",
       " 1401.7112200204485,\n",
       " 1399.3049774879044,\n",
       " 1396.6030995102444,\n",
       " 1393.592694855394,\n",
       " 1390.7035894938676,\n",
       " 1388.1514168305184,\n",
       " 1385.3391171956387,\n",
       " 1382.7614636639669,\n",
       " 1379.9649236816172,\n",
       " 1377.175338535558,\n",
       " 1374.6052091343122,\n",
       " 1371.9049699059212,\n",
       " 1369.2194975864077,\n",
       " 1366.3756728878961,\n",
       " 1363.5998601330807,\n",
       " 1361.0264701976084,\n",
       " 1358.2891158381444,\n",
       " 1355.6939214571446,\n",
       " 1353.0016828352489,\n",
       " 1350.3554873910973,\n",
       " 1347.6942641068608,\n",
       " 1345.1160947318281,\n",
       " 1342.4918708323548,\n",
       " 1339.8405613697896,\n",
       " 1337.2203744352755,\n",
       " 1334.771028161631,\n",
       " 1331.8016004122987,\n",
       " 1329.1428225251179,\n",
       " 1326.4254074316561,\n",
       " 1323.6911309704528,\n",
       " 1320.9185051442171,\n",
       " 1318.1920131286681,\n",
       " 1315.6292397643683,\n",
       " 1313.3015107290837,\n",
       " 1310.8330701985335,\n",
       " 1308.3564590285532,\n",
       " 1305.6627037802577,\n",
       " 1303.2610047891471,\n",
       " 1300.776287997332,\n",
       " 1298.0788653101833,\n",
       " 1295.4508905313912,\n",
       " 1293.0026623595297,\n",
       " 1290.4243321412073,\n",
       " 1288.1017600950449,\n",
       " 1285.6895075047532,\n",
       " 1283.1521576165574,\n",
       " 1280.3480196512539,\n",
       " 1278.0520308533798,\n",
       " 1275.5461294967247,\n",
       " 1272.8302910449831,\n",
       " 1270.2834172714054,\n",
       " 1267.8890510281039,\n",
       " 1265.3421399306717,\n",
       " 1262.9195633921961,\n",
       " 1260.6067725995192,\n",
       " 1258.2439256649275,\n",
       " 1255.6023507899338,\n",
       " 1252.9969358251251,\n",
       " 1250.5025096386562,\n",
       " 1248.0598463068782,\n",
       " 1245.5066810095966,\n",
       " 1242.9424320247983,\n",
       " 1240.6339796129903,\n",
       " 1238.0666019681391,\n",
       " 1235.6293038893159,\n",
       " 1233.1727854438636,\n",
       " 1230.7723024943575,\n",
       " 1228.4383466415413,\n",
       " 1226.0847298736364,\n",
       " 1223.7593591871087,\n",
       " 1221.3173061272062,\n",
       " 1218.7792726189166,\n",
       " 1216.4767177154431,\n",
       " 1213.8741788890056,\n",
       " 1211.576161600186,\n",
       " 1209.3630984191577,\n",
       " 1206.9881762430834,\n",
       " 1204.3811133127854,\n",
       " 1202.1030759683426,\n",
       " 1199.7062884342495,\n",
       " 1197.3488646728526,\n",
       " 1195.0237348589362,\n",
       " 1192.7107095116708,\n",
       " 1190.2424389709238,\n",
       " 1187.7439817845934,\n",
       " 1185.2411193871749,\n",
       " 1182.9584492102522,\n",
       " 1180.5942322896153,\n",
       " 1178.3818002912558,\n",
       " 1176.2233634227603,\n",
       " 1173.8512219928321,\n",
       " 1171.4490996853767,\n",
       " 1169.1119195778483,\n",
       " 1166.6694635800629,\n",
       " 1164.2404850990715,\n",
       " 1161.7455620519288,\n",
       " 1159.3353436327711,\n",
       " 1156.8293508099098,\n",
       " 1154.6503018412025,\n",
       " 1152.4128595862287,\n",
       " 1150.1700131207508,\n",
       " 1147.6839260154691,\n",
       " 1145.4457135529042,\n",
       " 1143.0713184484794,\n",
       " 1140.5865420251746,\n",
       " 1138.3221244726653,\n",
       " 1136.0270150051501,\n",
       " 1133.866793389856,\n",
       " 1131.5251760109659,\n",
       " 1129.4388170425991,\n",
       " 1127.163602503738,\n",
       " 1125.0988167676028,\n",
       " 1122.8141476386766,\n",
       " 1120.4763998771575,\n",
       " 1118.156640387773,\n",
       " 1115.8298115925704,\n",
       " 1113.6571158785757,\n",
       " 1111.4768345891864,\n",
       " 1109.198666477178,\n",
       " 1106.9803650286233,\n",
       " 1104.7344833560039,\n",
       " 1102.6910384650146,\n",
       " 1100.3086764987324,\n",
       " 1097.9733208872153,\n",
       " 1095.5798555934841,\n",
       " 1093.276501215061,\n",
       " 1091.1314101267185,\n",
       " 1088.8143893247909,\n",
       " 1086.4925378315857,\n",
       " 1084.4548867006076,\n",
       " 1082.2518512001984,\n",
       " 1080.2107726731215,\n",
       " 1078.0622007005966,\n",
       " 1075.9267047874989,\n",
       " 1073.7306626939233,\n",
       " 1071.7797371017939,\n",
       " 1069.6722918049804,\n",
       " 1067.3533017900986,\n",
       " 1065.2991581299309,\n",
       " 1063.2122284447526,\n",
       " 1061.0322779274777,\n",
       " 1058.9011031948473,\n",
       " 1056.652113498119,\n",
       " 1054.6173345807731,\n",
       " 1052.5125562006635,\n",
       " 1050.3278265815402,\n",
       " 1048.3576804613517,\n",
       " 1046.2862786574699,\n",
       " 1044.1412251827489,\n",
       " 1042.121328442367,\n",
       " 1039.9507684439338,\n",
       " 1037.8728654909537,\n",
       " 1035.5551860909829,\n",
       " 1033.2368929776023,\n",
       " 1031.3433251278591,\n",
       " 1029.1371778206253,\n",
       " 1027.177049581275,\n",
       " 1025.1556720258432,\n",
       " 1023.0979100323997,\n",
       " 1021.0118316459483,\n",
       " 1019.0037974517677,\n",
       " 1016.7983153410147,\n",
       " 1014.8759235676378,\n",
       " 1012.8248060931385,\n",
       " 1010.7309996068894,\n",
       " 1008.554867721418,\n",
       " 1006.5235015348524,\n",
       " 1004.4965456595327,\n",
       " 1002.5518369751251,\n",
       " 1000.6855317131896,\n",
       " 998.82031919085421,\n",
       " 996.89555716294331,\n",
       " 994.78996160971781,\n",
       " 992.65438252977538,\n",
       " 990.75160001906136,\n",
       " 988.92394724003202,\n",
       " 986.87095488166187,\n",
       " 984.72017408072691,\n",
       " 982.82310475037525,\n",
       " 980.95996055316675,\n",
       " 979.00424384164262,\n",
       " 977.00506811921218,\n",
       " 975.07262658843138,\n",
       " 973.13420031555847,\n",
       " 971.26262606871319,\n",
       " 969.42501906384609,\n",
       " 967.58646798199197,\n",
       " 965.57159173543391,\n",
       " 963.61907702058045,\n",
       " 961.84152554003856,\n",
       " 959.97567761747371,\n",
       " 958.00045495065785,\n",
       " 956.02497026107164,\n",
       " 954.16210572583714,\n",
       " 952.24350162610779,\n",
       " 950.32789260210507,\n",
       " 948.37662058067747,\n",
       " 946.64475364630164,\n",
       " 944.87872471907872,\n",
       " 942.90351897731534,\n",
       " 940.91682807051279,\n",
       " 939.03934608012685,\n",
       " 936.97571066227329,\n",
       " 935.10770408950282,\n",
       " 933.16787438527388,\n",
       " 931.4649882925429,\n",
       " 929.72540840085617,\n",
       " 927.96092967437551,\n",
       " 926.16135823423383,\n",
       " 924.27886752684594,\n",
       " 922.44213712465444,\n",
       " 920.62009648107642,\n",
       " 918.98386278065288,\n",
       " 917.27784635491378,\n",
       " 915.32048277258946,\n",
       " 913.72507255374353,\n",
       " 912.07893097423778,\n",
       " 910.3680339558872,\n",
       " 908.42639124596883,\n",
       " 906.6341532742,\n",
       " 904.86208108702249,\n",
       " 903.07336150724393,\n",
       " 901.3336219694844,\n",
       " 899.43355554520053,\n",
       " 897.93055899593992,\n",
       " 896.2774756960107,\n",
       " 894.47337979284828,\n",
       " 892.69276175140851,\n",
       " 890.80738932708573,\n",
       " 889.12457820969871,\n",
       " 887.62625219129859,\n",
       " 885.85333468410568,\n",
       " 884.01876223296847,\n",
       " 882.19868290170689,\n",
       " 880.5527570804519,\n",
       " 878.72663677785567,\n",
       " 876.98803754666801,\n",
       " 875.10238752821749,\n",
       " 873.3599361091558,\n",
       " 871.47596675698014,\n",
       " 869.70847272445508,\n",
       " 868.00974491945317,\n",
       " 866.39711369589486,\n",
       " 864.63493813927539,\n",
       " 862.75938822808473,\n",
       " 860.92323848286935,\n",
       " 859.2573852111417,\n",
       " 857.57178642029874,\n",
       " 855.802168794934,\n",
       " 853.82849082378516,\n",
       " 852.10315786350361,\n",
       " 850.42348882251724,\n",
       " 848.63313455399089,\n",
       " 846.95786828246378,\n",
       " 845.32837053790672,\n",
       " 843.63520984088439,\n",
       " 842.01057974724733,\n",
       " 840.27264785287525,\n",
       " 838.65484133265193,\n",
       " 836.93855783103925,\n",
       " 835.28254018590189,\n",
       " 833.37334778513548,\n",
       " 831.73879798373605,\n",
       " 830.19762540583815,\n",
       " 828.60391255470449,\n",
       " 826.989721605412,\n",
       " 825.44132543780563,\n",
       " 823.81427049421279,\n",
       " 822.19721282611761,\n",
       " 820.6113290757844,\n",
       " 819.00312141683025,\n",
       " 817.39718501776792,\n",
       " 815.75230905605099,\n",
       " 814.00741077947532,\n",
       " 812.28331115978676,\n",
       " 810.72909716984373,\n",
       " 809.16554359489328,\n",
       " 807.33867947889871,\n",
       " 805.79537042079733,\n",
       " 804.26540177181937,\n",
       " 802.59933249831329,\n",
       " 800.97491692519418,\n",
       " 799.41102309704002,\n",
       " 797.99761721282732,\n",
       " 796.27361334835143,\n",
       " 794.68693154418293,\n",
       " 793.08642211681934,\n",
       " 791.56400793290925,\n",
       " 789.9308385215835,\n",
       " 788.42564914957688,\n",
       " 786.89021565570943,\n",
       " 785.38097379733267,\n",
       " 783.97360814130047,\n",
       " 782.33545234491999,\n",
       " 780.75842972957173,\n",
       " 779.07815402347421,\n",
       " 777.5149591184902,\n",
       " 775.83368594530702,\n",
       " 774.21134104485714,\n",
       " 772.69077759085724,\n",
       " 771.27125445283696,\n",
       " 769.7112322086524,\n",
       " 768.14009094851224,\n",
       " 766.51742070585487,\n",
       " 764.95608626008709,\n",
       " 763.40787470936993,\n",
       " 762.06863254505151,\n",
       " 760.50991238061306,\n",
       " 758.90515679817111,\n",
       " 757.16335023590034,\n",
       " 755.73460474875617,\n",
       " 754.23152840003104,\n",
       " 752.72680593255041,\n",
       " 751.1248940246345,\n",
       " 749.46460804884873,\n",
       " 747.9137010913015,\n",
       " 746.57378296101911,\n",
       " 745.29039278942105,\n",
       " 743.75887785453801,\n",
       " 742.35537288650971,\n",
       " 740.85973310323652,\n",
       " 739.37914385576209,\n",
       " 737.94807822199493,\n",
       " 736.52069135295233,\n",
       " 734.91001804478969,\n",
       " 733.47601674205964,\n",
       " 732.1480264513466,\n",
       " 730.72703552801045,\n",
       " 729.25475385384459,\n",
       " 727.82255005290835,\n",
       " 726.48251811457317,\n",
       " 725.16352012484583,\n",
       " 723.82671165029296,\n",
       " 722.42109578191105,\n",
       " 721.10608345343735,\n",
       " 719.76926655263071,\n",
       " 718.24667970607425,\n",
       " 716.95642497567371,\n",
       " 715.45810142012215,\n",
       " 714.00154225250367,\n",
       " 712.59008195817194,\n",
       " 711.15401566313619,\n",
       " 709.70720379599209,\n",
       " 708.41599587062683,\n",
       " 707.05935224682446,\n",
       " 705.68514100556251,\n",
       " 704.31489066859331,\n",
       " 702.89236389420432,\n",
       " 701.5054942610443,\n",
       " 700.1831531232101,\n",
       " 698.73145681314065,\n",
       " 697.12518404798254,\n",
       " 695.73353798403036,\n",
       " 694.40213530095605,\n",
       " 693.07531998029538,\n",
       " 691.68815161585201,\n",
       " 690.30435105847698,\n",
       " 689.04637811085092,\n",
       " 687.47268252405013,\n",
       " 686.0911779099514,\n",
       " 684.84554811576857,\n",
       " 683.39548435060351,\n",
       " 681.93455034684473,\n",
       " 680.59206282159084,\n",
       " 679.19917643448287,\n",
       " 677.7565600796305,\n",
       " 676.43549041897961,\n",
       " 675.05180756758136,\n",
       " 673.79345109481039,\n",
       " 672.49972499352828,\n",
       " 671.40995352170205,\n",
       " 670.15971964072367,\n",
       " 668.67006244846766,\n",
       " 667.47546253508028,\n",
       " 666.1975667778953,\n",
       " 664.89124619593508,\n",
       " 663.68731911184204,\n",
       " 662.45124129698468,\n",
       " 661.14167065824984,\n",
       " 659.85652902978643,\n",
       " 658.59748508417795,\n",
       " 657.31768574480782,\n",
       " 655.9439022594629,\n",
       " 654.52024258973461,\n",
       " 653.2154243495072,\n",
       " 651.90906965487943,\n",
       " 650.50633682094769,\n",
       " 649.17049816418682,\n",
       " 647.92815698217169,\n",
       " 646.53894172579828,\n",
       " 645.18332037247637,\n",
       " 643.96844125487257,\n",
       " 642.73240977521675,\n",
       " 641.46246433940962,\n",
       " 640.12440759414699,\n",
       " 638.73094266895009,\n",
       " 637.42214384133081,\n",
       " 636.17286567054953,\n",
       " 634.93163236045677,\n",
       " 633.564914395085,\n",
       " 632.22422392966087,\n",
       " 631.05268025989199,\n",
       " 629.74223877792508,\n",
       " 628.35583308123421,\n",
       " 627.27814851523806,\n",
       " ...]"
      ]
     },
     "execution_count": 31,
     "metadata": {},
     "output_type": "execute_result"
    }
   ],
   "source": [
    "fitted.w_\n",
    "fitted.mse_"
   ]
  },
  {
   "cell_type": "markdown",
   "metadata": {},
   "source": [
    "Изобразите на графике процесс обучения – как среднеквадратичная ошибка зависит от номера итерации стохастического градиентного спуска."
   ]
  },
  {
   "cell_type": "code",
   "execution_count": 39,
   "metadata": {
    "collapsed": false,
    "scrolled": true
   },
   "outputs": [
    {
     "data": {
      "image/png": "[encoded data removed]",
      "text/plain": [
       "<matplotlib.figure.Figure at 0x7f9138f27b38>"
      ]
     },
     "metadata": {},
     "output_type": "display_data"
    }
   ],
   "source": [
    "''' ВАШ КОД ЗДЕСЬ '''\n",
    "plt.plot(fitted.mse_)\n",
    "plt.ylabel('MSE')\n",
    "plt.xlabel('Iterations');"
   ]
  },
  {
   "cell_type": "markdown",
   "metadata": {},
   "source": [
    "Выведите наименьшее значение среднеквадратичной ошибки и лучший вектор весов модели."
   ]
  },
  {
   "cell_type": "code",
   "execution_count": 33,
   "metadata": {
    "collapsed": false
   },
   "outputs": [
    {
     "name": "stdout",
     "output_type": "stream",
     "text": [
      "min MSE value: 2.71513524066\n",
      "best vector [67.989849695913833, 0.9444760534047697]\n"
     ]
    }
   ],
   "source": [
    "''' ВАШ КОД ЗДЕСЬ '''\n",
    "print('min MSE value:',  min(fitted.mse_))\n",
    "print('best vector', fitted.w_)"
   ]
  },
  {
   "cell_type": "code",
   "execution_count": 34,
   "metadata": {
    "collapsed": false
   },
   "outputs": [
    {
     "name": "stdout",
     "output_type": "stream",
     "text": [
      "[ 65.78331  71.51521  69.39874  68.2166   67.78781  68.69784  69.80204\n",
      "  70.01472  67.90265  66.78236]\n",
      "[ 67.42038186  66.68620063  68.34718007  67.22735761  68.6351933\n",
      "  66.19274177  68.97057884  68.24917738  68.41824669  66.49137629]\n"
     ]
    }
   ],
   "source": [
    "print(y[:10])\n",
    "print(fitted.predict(X_train_scaled[:10]))"
   ]
  },
  {
   "cell_type": "markdown",
   "metadata": {},
   "source": [
    "Постройте график того, как менялись значения весов модели ($w_0$ и $w_1$) по мере обучения."
   ]
  },
  {
   "cell_type": "code",
   "execution_count": 40,
   "metadata": {
    "collapsed": false,
    "scrolled": false
   },
   "outputs": [
    {
     "name": "stdout",
     "output_type": "stream",
     "text": [
      "[0.069034319999999996, -0.041623951193777264]\n",
      "[0.13309347263496285, -0.13004403808665371]\n",
      "[0.20322098965308616, -0.10351219315385665]\n",
      "[0.27158748145363976, -0.15870566156619834]\n",
      "[0.33971318471396683, -0.11215658623404987]\n",
      "[0.40584437485807351, -0.23798813678009154]\n",
      "[0.47741268363762202, -0.16367272568256014]\n",
      "[0.54658743107641439, -0.14467920305378759]\n",
      "[0.61384144747450453, -0.11417401647742449]\n",
      "[0.68280208143773335, -0.2235845995707883]\n"
     ]
    },
    {
     "data": {
      "text/plain": [
       "[<matplotlib.lines.Line2D at 0x7f91393ebb70>]"
      ]
     },
     "execution_count": 40,
     "metadata": {},
     "output_type": "execute_result"
    },
    {
     "data": {
      "image/png": "[encoded data removed]",
      "text/plain": [
       "<matplotlib.figure.Figure at 0x7f913904da20>"
      ]
     },
     "metadata": {},
     "output_type": "display_data"
    }
   ],
   "source": [
    "''' ВАШ КОД ЗДЕСЬ '''\n",
    "for i in fitted.weights_[:10]:\n",
    "    print(i)\n",
    "\n",
    "w0 = [i[0] for i in fitted.weights_]\n",
    "w1 = [i[1] for i in fitted.weights_]\n",
    "plt.plot(w0)\n",
    "plt.plot(w1)\n",
    "#plt.plot(fitted.weights_[:,0])\n",
    "#plt.plot(fitted.weights_[:,1])\n",
    "#fitted.weights_"
   ]
  },
  {
   "cell_type": "markdown",
   "metadata": {},
   "source": [
    "Сделайте прогноз для отложенной выборки `(X_valid_scaled, y_valid)` и посмотрите на MSE."
   ]
  },
  {
   "cell_type": "code",
   "execution_count": 41,
   "metadata": {
    "collapsed": false
   },
   "outputs": [
    {
     "data": {
      "text/plain": [
       "2.6708681207033784"
      ]
     },
     "execution_count": 41,
     "metadata": {},
     "output_type": "execute_result"
    }
   ],
   "source": [
    "''' ВАШ КОД ЗДЕСЬ '''\n",
    "pred = fitted.predict(X_valid_scaled)\n",
    "mean_squared_error(y_valid, pred)"
   ]
  },
  {
   "cell_type": "markdown",
   "metadata": {},
   "source": [
    "Теперь следайте то же самое, но с `LinearRegression` из `sklearn.linear_model`. Посчитайте MSE для отложенной выборки."
   ]
  },
  {
   "cell_type": "code",
   "execution_count": 42,
   "metadata": {
    "collapsed": false
   },
   "outputs": [
    {
     "data": {
      "text/plain": [
       "2.6708307676676348"
      ]
     },
     "execution_count": 42,
     "metadata": {},
     "output_type": "execute_result"
    }
   ],
   "source": [
    "''' ВАШ КОД ЗДЕСЬ '''\n",
    "from sklearn.linear_model import LinearRegression\n",
    "lr = LinearRegression()\n",
    "fitLr = lr.fit(X_train_scaled, y_train)\n",
    "pr = fitLr.predict(X_valid_scaled)\n",
    "mean_squared_error(y_valid, pr)\n",
    "#ответ - 5"
   ]
  },
  {
   "cell_type": "markdown",
   "metadata": {
    "collapsed": true
   },
   "source": [
    "<font color='red'>Вопрос 1.</font> В каком знаке после разделителя отличаются MSE линейной регрессии и `SGDRegressor` для отложенной выборки?\n",
    " - 2\n",
    " - 3\n",
    " - 4\n",
    " - 5 - этот"
   ]
  },
  {
   "cell_type": "markdown",
   "metadata": {},
   "source": [
    "## 1.2. Логистическая регрессия и SGD\n",
    "Теперь давайте разберемся, как при таком же стохастическом подходе обучать логистическую регрессию."
   ]
  },
  {
   "cell_type": "markdown",
   "metadata": {},
   "source": [
    "Задача классификации, $X$ – обучающая выборка размеров $\\ell \\times (d+1)$ (первый столбец – вектор из единиц), $y$ – вектор ответов, $y_i \\in \\{-1, 1\\}$.\n",
    "В [4 статье](https://habrahabr.ru/company/ods/blog/323890/) серии мы подробно разбирали, как логистическая регрессия с $L_2$-регуляризацией сводится к задаче минимизации:\n",
    "$$ C\\sum_{i=1}^\\ell \\log{(1 + e^{-y_iw^Tx_i})} + \\frac{1}{2}\\sum_{j=1}^d w_j^2 \\rightarrow min_w$$"
   ]
  },
  {
   "cell_type": "markdown",
   "metadata": {},
   "source": [
    "<font color='red'>Вопрос 2.</font> По какой формуле будут пересчитываться веса логистической регрессии при обучении стохастическим градиентным спуском?\n",
    " - $w_j^{(t+1)} = w_j^{(t)} + \\eta (Cy_i x_{ij} \\sigma(y_iw^Tx_i) +  \\delta_{j\\neq0} w_j)$\n",
    " - $w_j^{(t+1)} = w_j^{(t)} - \\eta (Cy_i x_{ij} \\sigma(-y_iw^Tx_i) +  \\delta_{j\\neq0}w_j)$\n",
    " - $w_j^{(t+1)} = w_j^{(t)} - \\eta (Cy_i x_{ij} \\sigma(y_iw^Tx_i) -  \\delta_{j\\neq0}w_j )$\n",
    " - $w_j^{(t+1)} = w_j^{(t)} + \\eta (Cy_i x_{ij} \\sigma(-y_iw^Tx_i) -  \\delta_{j\\neq0}w_j)$\n",
    " \n",
    "Здесь \n",
    "- $i \\in {0,\\ldots, \\ell-1}, j \\in {0,\\ldots, d}$\n",
    "- C – коэффициент регуляризации\n",
    "- $x_{ij} $ – элемент матрицы X в строке $i$ и столбце $j$ (нумерация с 0), \n",
    "- $x_i$ – $i$-ая строка матрицы $X$ (нумерация с 0), \n",
    "- $w_j^{(t)}$ – значение $j$-ого элемента вектора весов $w$ на шаге $t$ стохастического градиентного спуска\n",
    "- $\\eta$ – небольшая константа, шаг градиентного спуска\n",
    "- $\\delta_{j\\neq0}$ – символ Кронекера, то есть 1, когда $j\\neq0$ и $0$ – в противном случае"
   ]
  },
  {
   "cell_type": "markdown",
   "metadata": {},
   "source": [
    "Реализуйте класс `SGDClassifier`. Спецификация:\n",
    "- класс наследуется от `sklearn.base.BaseEstimator`\n",
    "- конструктор принимает параметры `eta` – шаг градиентного спуска (по умолчанию $10^{-3}$), `n_iter` – число проходов по выборке (по умолчанию 10) и C – коэффициент регуляризации\n",
    "- также в конструкторе должны создаваться списки `loss_` и `weights_` для отслеживания значений логистических потерь и вектора весов по итерациям градиентного спуска\n",
    "- Класс имеет методы `fit`, `predict` и `predict_proba`\n",
    "- Метод `fit` принимает матрицу `X` и вектор `y` (объекты `numpy.array`, рассматриваем только случай бинарной классификации, и значения в векторе `y` могут быть -1 и 1), добавляет к матрице `X` слева столбец из единиц, инициализирует вектор весов `w` **нулями** и в цикле с числом итераций `n_iter` обновляет веса по выведенной вами формуле, а также записывает получившиеся на данной итерации значения log_loss и вектор весов `w` в предназначенные для этого списки. \n",
    "- В конце метод `fit` создает переменную `w_`, в которой хранится тот вектор весов, при котором ошибка минимальна\n",
    "- Метод `fit` должен возвращать текущий экземпляр класса `SGDClassifier`, т.е. `self`\n",
    "- Метод `predict_proba` принимает матрицу `X`, добавляет к ней слева столбец из единиц и возвращает матрицу прогнозов модели (такую же, какую возвращают методы `predict_proba` моделей `sklearn`), используя созданный методом `fit` вектор весов `w_`\n",
    "- Метод `predict` вызывает метод  `predict_proba` и возвращает вектор ответов: -1, если предсказанная вероятность класса 1 меньше 0.5 и 1 – в противном случае\n",
    "- И еще **важный момент**: во избежание вычислительных проблем из-за слишком больших или малых значений под экспонентной (overflow & underflow) используйте написанную функцию `sigma`"
   ]
  },
  {
   "cell_type": "code",
   "execution_count": 2,
   "metadata": {
    "collapsed": true
   },
   "outputs": [],
   "source": [
    "def sigma(z):\n",
    "    z = z.flatten()\n",
    "    z[z > 100] = 100\n",
    "    z[z < -100] = -100\n",
    "    return 1. / (1 + np.exp(-z))"
   ]
  },
  {
   "cell_type": "code",
   "execution_count": 3,
   "metadata": {
    "collapsed": true
   },
   "outputs": [],
   "source": [
    "def kroneker(j):\n",
    "    return j != 0"
   ]
  },
  {
   "cell_type": "code",
   "execution_count": 4,
   "metadata": {
    "collapsed": true
   },
   "outputs": [],
   "source": [
    "def log_func(X,y,w, C):\n",
    "    return C*log(1+exp(-1*y.dot(w.T.dot(X))))"
   ]
  },
  {
   "cell_type": "code",
   "execution_count": 5,
   "metadata": {
    "collapsed": false
   },
   "outputs": [],
   "source": [
    "class SGDClassifier(BaseEstimator):\n",
    "    ''' ВАШ КОД ЗДЕСЬ '''\n",
    "    w_ = None\n",
    "    \n",
    "    def __init__(self, C, eta = 0.001, n_iter = 10):\n",
    "        self.eta = eta\n",
    "        self.n_iter = n_iter\n",
    "        self.C = C\n",
    "        self.loss_ = list()\n",
    "        self.weights_ = list()\n",
    "        \n",
    "    def fit(self, X, y):\n",
    "        rows = len(X)\n",
    "        X_bias = np.insert(X,0,1, axis=1)\n",
    "        columns = len(X_bias.T)\n",
    "        w = [0 for i in range(columns)]\n",
    "        \n",
    "        for i in range(self.n_iter):\n",
    "            for j in range(rows):\n",
    "                w_array = np.array(w)\n",
    "                sigm = sigma((-1)*y[j]*w_array.T.dot(X_bias[j]))\n",
    "                #print(sigm)\n",
    "                #print(X_bias[j])\n",
    "                w_kroneker = [val if idx != 0 else 0 for idx,val in enumerate(w)]\n",
    "                w = w + self.eta*(self.C*y[j]*sigm*X_bias[j]-w_kroneker)\n",
    "                \n",
    "                y_pred = []\n",
    "                for m in range(rows):\n",
    "                    pred = 0\n",
    "                    for n in range(columns):\n",
    "                        pred += X_bias[m,n]*w[n]\n",
    "                    y_pred.append(sigma(pred))    \n",
    "                \n",
    "                #y_pred = [1 if val > 0.5 else -1 for val in y_pred]\n",
    "                \n",
    "                #y_pred = [sum(np.log(sigma(X_bias[m]*w))) for m in range(rows)]\n",
    "                #xwp = X_bias.dot(w)\n",
    "                #z = np.array(y).T.dot(xwp)\n",
    "                #y_pred = self.C * sigm_sum\n",
    "                #print(y_pred)\n",
    "                self.loss_.append(log_loss(y,y_pred))\n",
    "                self.weights_.append(list(w))\n",
    "        min_index = self.loss_.index(min(self.loss_))    \n",
    "        self.w_ = self.weights_[min_index]\n",
    "        return self\n",
    "    \n",
    "    def predict_proba(self, X):\n",
    "        X_bias = np.insert(X,0,1, axis=1)\n",
    "        rows = len(X)\n",
    "        columns = len(X_bias.T)\n",
    "        #y_pred = np.ndarray(shape=(2,rows))\n",
    "        y_pred = [[],[]]\n",
    "        for m in range(rows):\n",
    "            pred = 0\n",
    "            for n in range(columns):\n",
    "                pred += X_bias[m,n]*self.w_[n]\n",
    "            sigm = sigma(pred)\n",
    "            y_pred[0].append(1-sigm)\n",
    "            y_pred[1].append(sigm)\n",
    "        return y_pred\n",
    "    \n",
    "    def predict(self, X):\n",
    "        preds = self.predict_proba(X)\n",
    "        return [1 if val > 0.5 else -1 for val in preds[1]]\n",
    "                  "
   ]
  },
  {
   "cell_type": "markdown",
   "metadata": {},
   "source": [
    "Проверим `SGDClassifier` на данных UCI по раку молочной железы."
   ]
  },
  {
   "cell_type": "code",
   "execution_count": 6,
   "metadata": {
    "collapsed": true
   },
   "outputs": [],
   "source": [
    "from sklearn.datasets import load_breast_cancer"
   ]
  },
  {
   "cell_type": "code",
   "execution_count": 7,
   "metadata": {
    "collapsed": true
   },
   "outputs": [],
   "source": [
    "cancer = load_breast_cancer()\n",
    "# поменяем метки в y с 0 на -1\n",
    "X, y = cancer.data, [-1 if i == 0 else 1 for i in cancer.target]"
   ]
  },
  {
   "cell_type": "markdown",
   "metadata": {},
   "source": [
    "Выделим 70% под обучение, 30% – под проверку и масштабируем выборку."
   ]
  },
  {
   "cell_type": "code",
   "execution_count": 8,
   "metadata": {
    "collapsed": true
   },
   "outputs": [],
   "source": [
    "X_train, X_valid, y_train, y_valid = train_test_split(X, y,\n",
    "                                                     test_size=0.3,\n",
    "                                                     random_state=17)"
   ]
  },
  {
   "cell_type": "code",
   "execution_count": 9,
   "metadata": {
    "collapsed": true
   },
   "outputs": [],
   "source": [
    "scaler = StandardScaler()\n",
    "X_train_scaled = scaler.fit_transform(X_train)\n",
    "X_valid_scaled = scaler.transform(X_valid)"
   ]
  },
  {
   "cell_type": "markdown",
   "metadata": {},
   "source": [
    "Обучите на масштибированной выборке `SGDClassifier` с параметрами `C`=1, `eta`=$10^{-3}$ и `n_iter`=3."
   ]
  },
  {
   "cell_type": "code",
   "execution_count": 10,
   "metadata": {
    "collapsed": false
   },
   "outputs": [
    {
     "data": {
      "text/plain": [
       "SGDClassifier(C=1, eta=0.001, n_iter=3)"
      ]
     },
     "execution_count": 10,
     "metadata": {},
     "output_type": "execute_result"
    }
   ],
   "source": [
    "''' ВАШ КОД ЗДЕСЬ '''\n",
    "est = SGDClassifier(C=1,eta=0.001,n_iter=3)\n",
    "est.fit(X_train_scaled, y_train)"
   ]
  },
  {
   "cell_type": "markdown",
   "metadata": {},
   "source": [
    "Постройте график изменения log_loss."
   ]
  },
  {
   "cell_type": "code",
   "execution_count": 11,
   "metadata": {
    "collapsed": false
   },
   "outputs": [
    {
     "data": {
      "text/plain": [
       "[<matplotlib.lines.Line2D at 0x7fab2499d748>]"
      ]
     },
     "execution_count": 11,
     "metadata": {},
     "output_type": "execute_result"
    },
    {
     "data": {
      "image/png": "[encoded data removed]",
      "text/plain": [
       "<matplotlib.figure.Figure at 0x7fab27413320>"
      ]
     },
     "metadata": {},
     "output_type": "display_data"
    }
   ],
   "source": [
    "''' ВАШ КОД ЗДЕСЬ '''\n",
    "plt.plot(est.loss_)"
   ]
  },
  {
   "cell_type": "markdown",
   "metadata": {},
   "source": [
    "Теперь обучите `SGDClassifier` с параметром `C`=1000, число проходов по выборке увеличьте до 10."
   ]
  },
  {
   "cell_type": "code",
   "execution_count": 12,
   "metadata": {
    "collapsed": false
   },
   "outputs": [
    {
     "data": {
      "text/plain": [
       "SGDClassifier(C=1000, eta=0.001, n_iter=10)"
      ]
     },
     "execution_count": 12,
     "metadata": {},
     "output_type": "execute_result"
    }
   ],
   "source": [
    "''' ВАШ КОД ЗДЕСЬ '''\n",
    "est_1000 = SGDClassifier(C=1000,n_iter=10)\n",
    "est_1000.fit(X_train_scaled, y_train)"
   ]
  },
  {
   "cell_type": "code",
   "execution_count": 13,
   "metadata": {
    "collapsed": false
   },
   "outputs": [
    {
     "data": {
      "text/plain": [
       "[<matplotlib.lines.Line2D at 0x7fab2447df28>]"
      ]
     },
     "execution_count": 13,
     "metadata": {},
     "output_type": "execute_result"
    },
    {
     "data": {
      "image/png": "[encoded data removed]",
      "text/plain": [
       "<matplotlib.figure.Figure at 0x7fab249cdcc0>"
      ]
     },
     "metadata": {},
     "output_type": "display_data"
    }
   ],
   "source": [
    "plt.plot(est_1000.loss_)"
   ]
  },
  {
   "cell_type": "code",
   "execution_count": 14,
   "metadata": {
    "collapsed": false
   },
   "outputs": [
    {
     "data": {
      "text/plain": [
       "0.048786010364350527"
      ]
     },
     "execution_count": 14,
     "metadata": {},
     "output_type": "execute_result"
    }
   ],
   "source": [
    "min(est_1000.loss_)"
   ]
  },
  {
   "cell_type": "code",
   "execution_count": 19,
   "metadata": {
    "collapsed": false,
    "scrolled": true
   },
   "outputs": [
    {
     "name": "stdout",
     "output_type": "stream",
     "text": [
      "3.09122261479\n",
      "mean radius : -1.65755319737\n",
      "mean texture : -3.41387355348\n",
      "mean perimeter : -1.40982226129\n",
      "mean area : -1.66493134529\n",
      "mean smoothness : -0.177202570641\n",
      "mean compactness : 1.97826990908\n",
      "mean concavity : -3.56690964338\n",
      "mean concave points : -3.54327573464\n",
      "mean symmetry : 0.418501303706\n",
      "mean fractal dimension : 2.8603495442\n",
      "radius error : -4.53181879742\n",
      "texture error : 2.79177430294\n",
      "perimeter error : -2.57528860706\n",
      "area error : -3.15458401451\n",
      "smoothness error : 0.603031960059\n",
      "compactness error : 4.53505883747\n",
      "concavity error : 0.293037875593\n",
      "concave points error : 0.0796667664818\n",
      "symmetry error : -0.520205554539\n",
      "fractal dimension error : 4.66066769902\n",
      "worst radius : -2.92418605761\n",
      "worst texture : -4.05156370779\n",
      "worst perimeter : -1.63955219482\n",
      "worst area : -2.51138523072\n",
      "worst smoothness : -1.85871540147\n",
      "worst compactness : -0.72097361475\n",
      "worst concavity : -5.1073427726\n",
      "worst concave points : -1.97909981511\n",
      "worst symmetry : -1.5991014713\n",
      "worst fractal dimension : -2.29297816711\n",
      "-5.1073427726\n",
      "26\n",
      "worst concavity\n"
     ]
    },
    {
     "ename": "TypeError",
     "evalue": "bad operand type for abs(): 'list'",
     "output_type": "error",
     "traceback": [
      "\u001b[0;31m---------------------------------------------------------------------------\u001b[0m",
      "\u001b[0;31mTypeError\u001b[0m                                 Traceback (most recent call last)",
      "\u001b[0;32m<ipython-input-19-84541bcf762c>\u001b[0m in \u001b[0;36m<module>\u001b[0;34m()\u001b[0m\n\u001b[1;32m     16\u001b[0m \u001b[0mprint\u001b[0m\u001b[0;34m(\u001b[0m\u001b[0mcancer\u001b[0m\u001b[0;34m.\u001b[0m\u001b[0mfeature_names\u001b[0m\u001b[0;34m[\u001b[0m\u001b[0midx\u001b[0m\u001b[0;34m]\u001b[0m\u001b[0;34m)\u001b[0m\u001b[0;34m\u001b[0m\u001b[0m\n\u001b[1;32m     17\u001b[0m \u001b[0;31m#concavity\u001b[0m\u001b[0;34m\u001b[0m\u001b[0;34m\u001b[0m\u001b[0m\n\u001b[0;32m---> 18\u001b[0;31m \u001b[0mprint\u001b[0m\u001b[0;34m(\u001b[0m\u001b[0mcancer\u001b[0m\u001b[0;34m.\u001b[0m\u001b[0mfeature_names\u001b[0m\u001b[0;34m[\u001b[0m\u001b[0mnp\u001b[0m\u001b[0;34m.\u001b[0m\u001b[0margmax\u001b[0m\u001b[0;34m(\u001b[0m\u001b[0mabs\u001b[0m\u001b[0;34m(\u001b[0m\u001b[0mweights\u001b[0m\u001b[0;34m)\u001b[0m\u001b[0;34m)\u001b[0m\u001b[0;34m]\u001b[0m\u001b[0;34m)\u001b[0m\u001b[0;34m\u001b[0m\u001b[0m\n\u001b[0m",
      "\u001b[0;31mTypeError\u001b[0m: bad operand type for abs(): 'list'"
     ]
    }
   ],
   "source": [
    "cancer.feature_names.shape\n",
    "weights = list(est_1000.w_[1:])\n",
    "print(est_1000.w_[0])\n",
    "#print(list(zip(cancer.feature_names, weights)))\n",
    "for i in range(len(weights)):\n",
    "    print(cancer.feature_names[i],\":\", weights[i])\n",
    "    \n",
    "#min_abs = max([abs(i) for i in weights])\n",
    "#print(min_abs)\n",
    "#print(weights.index(min_abs))\n",
    "#print(cancer.feature_names[14])\n",
    "\n",
    "print(min(weights))\n",
    "idx = weights.index(min(weights))\n",
    "print(idx)\n",
    "print(cancer.feature_names[idx])\n",
    "#concavity\n",
    "print(cancer.feature_names[np.argmax(abs(weights))])"
   ]
  },
  {
   "cell_type": "markdown",
   "metadata": {},
   "source": [
    "Посмотрите на веса модели, при которых ошибка на обучении была минимальна."
   ]
  },
  {
   "cell_type": "markdown",
   "metadata": {},
   "source": [
    "<font color='red'>Вопрос 3.</font> Какой признак сильнее остальных влияет на вероятность того, что опухоль доброкачественна, согласно обученной модели `SGDClassifier`? (будьте внимательны – проверьте длину вектора весов, полученного после обучения, сравните с числом признаков в исходной задаче)\n",
    " - worst compactness\n",
    " - worst smoothness\n",
    " - worst concavity\n",
    " - concave points error\n",
    " - concavity error\n",
    " - compactness error\n",
    " - worst fractal dimension"
   ]
  },
  {
   "cell_type": "code",
   "execution_count": 17,
   "metadata": {
    "collapsed": false
   },
   "outputs": [
    {
     "name": "stdout",
     "output_type": "stream",
     "text": [
      "loss:  0.434411079396\n",
      "roc auc:  0.976304023845\n"
     ]
    }
   ],
   "source": [
    "''' ВАШ КОД ЗДЕСЬ '''\n",
    "pred = est_1000.predict(X_valid_scaled)\n",
    "proba = est_1000.predict_proba(X_valid_scaled)\n",
    "print(\"loss: \", log_loss(y_valid, proba[1]))\n",
    "print(\"roc auc: \", roc_auc_score(y_valid, proba[1]))"
   ]
  },
  {
   "cell_type": "markdown",
   "metadata": {},
   "source": [
    "Посчитайте log_loss и ROC AUC на отложенной выборке, проделайте все то же с `sklearn.linear_model.LogisticRegression` (параметры по умолчанию, только random_state=17) и сравните результаты."
   ]
  },
  {
   "cell_type": "code",
   "execution_count": 18,
   "metadata": {
    "collapsed": false
   },
   "outputs": [
    {
     "name": "stdout",
     "output_type": "stream",
     "text": [
      "171\n",
      "<class 'numpy.ndarray'>\n",
      "loss:  0.105692134779\n",
      "roc auc:  0.989269746647\n"
     ]
    }
   ],
   "source": [
    "''' ВАШ КОД ЗДЕСЬ '''\n",
    "from sklearn.linear_model import LogisticRegression\n",
    "lr = LogisticRegression(random_state=17)\n",
    "lr.fit(X_train_scaled, y_train)\n",
    "\n",
    "pred = lr.predict(X_valid_scaled)\n",
    "proba = lr.predict_proba(X_valid_scaled)\n",
    "print(len(proba[:,1]))\n",
    "print(type(proba))\n",
    "\n",
    "print(\"loss: \", log_loss(y_valid, proba[:,1]))\n",
    "print(\"roc auc: \", roc_auc_score(y_valid, proba[:,1]))"
   ]
  },
  {
   "cell_type": "markdown",
   "metadata": {},
   "source": [
    "## 1.3. Логистическая регрессия и SGDClassifier в задаче классификации отзывов к фильмам"
   ]
  },
  {
   "cell_type": "markdown",
   "metadata": {},
   "source": [
    "Теперь посмотрим на логистическую регрессию и ее же версию, но обучаемую стохастическим градиентным спуском, в задаче классификации отзывов IMDB. С этой задачей мы знакомы по 4 и 8 темам курса. Данные можно скачать [отсюда](https://yadi.sk/d/Tg1Tflur333iLr).\n",
    "\n",
    "Импортируем файлы, и обучим на имеющихся данных `CountVectorizer`"
   ]
  },
  {
   "cell_type": "code",
   "execution_count": 239,
   "metadata": {
    "collapsed": true
   },
   "outputs": [],
   "source": [
    "from sklearn.datasets import load_files\n",
    "from sklearn.feature_extraction.text import CountVectorizer\n",
    "from sklearn.linear_model import SGDClassifier"
   ]
  },
  {
   "cell_type": "code",
   "execution_count": 240,
   "metadata": {
    "collapsed": true
   },
   "outputs": [],
   "source": [
    "# поменяйте путь к файлу\n",
    "reviews_train = load_files(\"/home/anna/python/mlcourse_open/data/aclImdb/train/\")\n",
    "text_train, y_train = reviews_train.data, reviews_train.target"
   ]
  },
  {
   "cell_type": "code",
   "execution_count": 241,
   "metadata": {
    "collapsed": true
   },
   "outputs": [],
   "source": [
    "reviews_test = load_files(\"/home/anna/python/mlcourse_open/data/aclImdb/test/\")\n",
    "text_test, y_test = reviews_test.data, reviews_test.target"
   ]
  },
  {
   "cell_type": "markdown",
   "metadata": {},
   "source": [
    "Обучим на имеющихся данных `CountVectorizer`, считая биграммы, то есть перейдем к разреженному представлению данных, где каждому уникальному слову и паре подряд идущих слов в обучающей выборке соответсвует признак. Всего таких признаков получается более 1.5 млн."
   ]
  },
  {
   "cell_type": "code",
   "execution_count": 242,
   "metadata": {
    "collapsed": false
   },
   "outputs": [
    {
     "name": "stdout",
     "output_type": "stream",
     "text": [
      "CPU times: user 47.9 s, sys: 548 ms, total: 48.4 s\n",
      "Wall time: 48.5 s\n"
     ]
    }
   ],
   "source": [
    "%%time\n",
    "cv = CountVectorizer(ngram_range=(1, 2))\n",
    "X_train = cv.fit_transform(text_train)\n",
    "X_test = cv.transform(text_test)"
   ]
  },
  {
   "cell_type": "code",
   "execution_count": 243,
   "metadata": {
    "collapsed": false
   },
   "outputs": [
    {
     "data": {
      "text/plain": [
       "((25000, 1513832), (25000, 1513832))"
      ]
     },
     "execution_count": 243,
     "metadata": {},
     "output_type": "execute_result"
    }
   ],
   "source": [
    "X_train.shape, X_test.shape"
   ]
  },
  {
   "cell_type": "code",
   "execution_count": 244,
   "metadata": {
    "collapsed": false
   },
   "outputs": [
    {
     "data": {
      "text/plain": [
       "(25000,)"
      ]
     },
     "execution_count": 244,
     "metadata": {},
     "output_type": "execute_result"
    }
   ],
   "source": [
    "y_train.shape"
   ]
  },
  {
   "cell_type": "markdown",
   "metadata": {},
   "source": [
    "Обучите на выборке `(X_train, y_train)` логистическую регрессию с параметрами по умолчанию (только укажите `random_state`=17) и посчитайте ROC AUC на тестовой выборке. Замерьте время обучения модели. Данные можно не масштабировать, так как признаки – по сути, счетчики, и они уже все измеряются примерно в одном диапазоне."
   ]
  },
  {
   "cell_type": "code",
   "execution_count": 251,
   "metadata": {
    "collapsed": false
   },
   "outputs": [
    {
     "name": "stdout",
     "output_type": "stream",
     "text": [
      "0.9582471424\n",
      "CPU times: user 2min 8s, sys: 1.92 s, total: 2min 10s\n",
      "Wall time: 1min 6s\n"
     ]
    }
   ],
   "source": [
    "%%time\n",
    "from sklearn.linear_model import LogisticRegression\n",
    "lr = LogisticRegression(random_state=17)\n",
    "lr.fit(X_train, y_train)\n",
    "pred = lr.predict_proba(X_test)\n",
    "print(roc_auc_score(y_test, pred[:,1]))"
   ]
  },
  {
   "cell_type": "markdown",
   "metadata": {},
   "source": [
    "Теперь перейдем к онлайн-алгоритму. Мы написали свой `SGDClassifier` и принцип его работы поняли, надо еще немного постараться, чтобы сделать его эффективным, например, сделать поддержку разреженных данных. Но мы теперь перейдем к `sklearn`-реализации SGD-алгоритма. Прочитайте документацию [SGDClassifier](http://scikit-learn.org/stable/modules/generated/sklearn.linear_model.SGDClassifier.html), сделайте выводы, чем `SGDClassifier` из `Sklearn` более продвинут, чем наша реализация SGD-классификатора. "
   ]
  },
  {
   "cell_type": "markdown",
   "metadata": {},
   "source": [
    "<font color='red'>Вопрос 4.</font> Чем `sklearn`-реализация стохастического классификатора более продвинута, чем `SGDClassifier`, который мы реализовали? Отметьте все подходящие варианты.\n",
    " - Изменяемый шаг градиентного спуска - да\n",
    " - Реализован линейный SVM - да\n",
    " - Реализована ранняя остановка во избежание переобучения\n",
    " - Есть распараллеливание по процессорам - да\n",
    " - Можно обучать LASSO - да\n",
    " - Поддерживается онлайн-обучение деревьев решений\n",
    " - Поддерживается mini-batch подход (обновление весов по нескольким объектом сразу, а не по одному) - да\n"
   ]
  },
  {
   "cell_type": "markdown",
   "metadata": {},
   "source": [
    "Проведите 100 итераций SGD-логрегрессии (опять `random_state`=17) на той же выборке. Опять замерьте время обучения модели и обратите внимание, насколько оно меньше, чем время обучения логистической регрессии."
   ]
  },
  {
   "cell_type": "code",
   "execution_count": 252,
   "metadata": {
    "collapsed": false
   },
   "outputs": [
    {
     "name": "stdout",
     "output_type": "stream",
     "text": [
      "0.9572894656\n",
      "CPU times: user 13.7 s, sys: 8 ms, total: 13.7 s\n",
      "Wall time: 13.4 s\n"
     ]
    }
   ],
   "source": [
    "%%time\n",
    "cool_sgd = SGDClassifier(loss='log',random_state=17,n_iter=100)\n",
    "cool_sgd.fit(X_train, y_train)\n",
    "pred = cool_sgd.predict_proba(X_test)\n",
    "print(roc_auc_score(y_test, pred[:,1]))"
   ]
  },
  {
   "cell_type": "code",
   "execution_count": null,
   "metadata": {
    "collapsed": true
   },
   "outputs": [],
   "source": [
    "#3"
   ]
  },
  {
   "cell_type": "markdown",
   "metadata": {},
   "source": [
    "<font color='red'>Вопрос 5.</font> В каком знаке после разделителя отличаются ROC AUC на тестовой выборке логистической регрессии и SGD-классификатора `Sklearn` с логистической функцией потерь?\n",
    " - 2\n",
    " - 3\n",
    " - 4\n",
    " - 5"
   ]
  }
 ],
 "metadata": {
  "kernelspec": {
   "display_name": "Python 3",
   "language": "python",
   "name": "python3"
  },
  "language_info": {
   "codemirror_mode": {
    "name": "ipython",
    "version": 3
   },
   "file_extension": ".py",
   "mimetype": "text/x-python",
   "name": "python",
   "nbconvert_exporter": "python",
   "pygments_lexer": "ipython3",
   "version": "3.6.0"
  }
 },
 "nbformat": 4,
 "nbformat_minor": 2
}
