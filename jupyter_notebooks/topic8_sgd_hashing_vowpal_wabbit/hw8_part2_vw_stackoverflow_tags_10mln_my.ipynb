{
 "cells": [
  {
   "cell_type": "markdown",
   "metadata": {},
   "source": [
    "<center>\n",
    "<img src=\"../../img/ods_stickers.jpg\">\n",
    "## Открытый курс по машинному обучению\n",
    "</center>\n",
    "<center>Автор материала: программист-исследователь Mail.ru Group, старший преподаватель <br>Факультета Компьютерных Наук ВШЭ Юрий Кашницкий"
   ]
  },
  {
   "cell_type": "markdown",
   "metadata": {},
   "source": [
    "# <center> Домашнее задание № 8. Часть 2\n",
    "## <center> Vowpal Wabbit в задаче классификации тегов вопросов на Stackoverflow"
   ]
  },
  {
   "cell_type": "markdown",
   "metadata": {},
   "source": [
    "## План 2 части домашнего задания\n",
    "    2.1. Введение\n",
    "    2.2. Описание данных\n",
    "    2.3. Предобработка данных\n",
    "    2.4. Обучение и проверка моделей\n",
    "    2.5. Заключение"
   ]
  },
  {
   "cell_type": "markdown",
   "metadata": {},
   "source": [
    "### 2.1. Введение\n",
    "\n",
    "В этом задании вы будете делать примерно то же, что я каждую неделю –  в Mail.ru Group: обучать модели на выборке в несколько гигабайт. Задание можно выполнить и на Windows с Python, но я рекомендую поработать под \\*NIX-системой (например, через Docker) и активно использовать язык bash.\n",
    "Немного снобизма (простите, но правда): если вы захотите работать в лучших компаниях мира в области ML, вам все равно понадобится опыт работы с bash под UNIX.\n",
    "\n",
    "[Веб-форма](https://goo.gl/forms/z8zENbMiaEAeB7nG3) для ответов.\n",
    "\n",
    "Для выполнения задания понадобится установленный Vowpal Wabbit (уже есть в докер-контейнере курса, см. инструкцию в README [репозитория](https://github.com/Yorko/mlcourse_open) нашего курса) и примерно 70 Гб дискового пространства. Я тестировал решение не на каком-то суперкомпе, а на Macbook Pro 2015 (8 ядер, 16 Гб памяти), и самая тяжеловесная модель обучалась около 12 минут, так что задание реально выполнить и с простым железом. Но если вы планируете когда-либо арендовать сервера Amazon, можно попробовать это сделать уже сейчас.\n",
    "\n",
    "Материалы в помощь:\n",
    " - интерактивный [тьюториал](https://www.codecademy.com/en/courses/learn-the-command-line/lessons/environment/exercises/bash-profile) CodeAcademy по утилитам командной строки UNIX (примерно на час-полтора)\n",
    " - [статья](https://habrahabr.ru/post/280562/) про то, как арендовать на Amazon машину (еще раз: это не обязательно для выполнения задания, но будет хорошим опытом, если вы это делаете впервые)"
   ]
  },
  {
   "cell_type": "markdown",
   "metadata": {},
   "source": [
    "### 2.2. Описание данных"
   ]
  },
  {
   "cell_type": "markdown",
   "metadata": {},
   "source": [
    "Имеются 10 Гб вопросов со StackOverflow – [скачайте](https://yadi.sk/d/krikdUic3Ggjyf) эту выборку. \n",
    "\n",
    "Формат данных простой:<br>\n",
    "<center>*текст вопроса* (слова через пробел) TAB *теги вопроса* (через пробел)\n",
    "\n",
    "Здесь TAB – это символ табуляции.\n",
    "Пример первой записи в выборке:"
   ]
  },
  {
   "cell_type": "code",
   "execution_count": 1,
   "metadata": {
    "collapsed": false
   },
   "outputs": [
    {
     "name": "stdout",
     "output_type": "stream",
     "text": [
      " is there a way to apply a background color through css at the tr level i can apply it at the td level like this my td background color e8e8e8 background e8e8e8 however the background color doesn t seem to get applied when i attempt to apply the background color at the tr level like this my tr background color e8e8e8 background e8e8e8 is there a css trick to making this work or does css not natively support this for some reason \tcss css3 css-selectors\r\n"
     ]
    }
   ],
   "source": [
    "!head -1 stack.tsv"
   ]
  },
  {
   "cell_type": "markdown",
   "metadata": {},
   "source": [
    "Здесь у нас текст вопроса, затем табуляция и теги вопроса: *css, css3* и *css-selectors*. Всего в выборке таких вопросов 10 миллионов. "
   ]
  },
  {
   "cell_type": "code",
   "execution_count": 2,
   "metadata": {
    "collapsed": false
   },
   "outputs": [
    {
     "name": "stdout",
     "output_type": "stream",
     "text": [
      "10000000 stack.tsv\n",
      "CPU times: user 1.01 s, sys: 132 ms, total: 1.14 s\n",
      "Wall time: 25.3 s\n"
     ]
    }
   ],
   "source": [
    "%%time\n",
    "!wc -l stack.tsv"
   ]
  },
  {
   "cell_type": "markdown",
   "metadata": {},
   "source": [
    "Обратите внимание на то, что такие данные я уже не хочу загружать в оперативную память и, пока можно, буду пользоваться эффективными утилитами UNIX –  head, tail, wc, cat, cut и прочими."
   ]
  },
  {
   "cell_type": "markdown",
   "metadata": {},
   "source": [
    "### 2.3. Предобработка данных"
   ]
  },
  {
   "cell_type": "markdown",
   "metadata": {},
   "source": [
    "Давайте выберем в наших данных все вопросы с тегами *javascript, java, python, ruby, php, c++, c#, go, scala* и  *swift* и подготовим обучающую выборку в формате Vowpal Wabbit. Будем решать задачу 10-классовой классификации вопросов по перечисленным тегам.\n",
    "\n",
    "Вообще, как мы видим, у каждого вопроса может быть несколько тегов, но мы упростим себе задачу и будем у каждого вопроса выбирать один из перечисленных тегов либо игнорировать вопрос, если таковых тегов нет. \n",
    "Но вообще VW поддерживает multilabel classification (аргумент  --multilabel_oaa).\n",
    "<br>\n",
    "<br>\n",
    "Реализуйте в виде отдельного файла `preprocess.py` код для подготовки данных. Он должен отобрать строки, в которых есть перечисленные теги, и переписать их в отдельный файл в формат Vowpal Wabbit. Детали:\n",
    " - скрипт должен работать с аргументами командной строки: с путями к файлам на входе и на выходе\n",
    " - строки обрабатываются по одной (можно использовать tqdm для подсчета числа итераций)\n",
    " - если табуляций в строке нет или их больше одной, считаем строку поврежденной и пропускаем\n",
    " - в противном случае смотрим, сколько в строке тегов из списка *javascript, java, python, ruby, php, c++, c#, go, scala* и  *swift*. Если ровно один, то записываем строку в выходной файл в формате VW: `label | text`, где `label` – число от 1 до 10 (1 - *javascript*, ... 10 – *swift*). Пропускаем те строки, где интересующих тегов больше или меньше одного \n",
    " - из текста вопроса надо выкинуть двоеточия и вертикальные палки, если они есть – в VW это спецсимволы"
   ]
  },
  {
   "cell_type": "code",
   "execution_count": 5,
   "metadata": {
    "collapsed": false
   },
   "outputs": [],
   "source": [
    "import os\n",
    "#from tqdm import tqdm\n",
    "from time import time\n",
    "import numpy as np\n",
    "from sklearn.metrics import accuracy_score"
   ]
  },
  {
   "cell_type": "markdown",
   "metadata": {
    "collapsed": true
   },
   "source": [
    "Должно получиться вот такое число строк – 4389054. Как видите, 10 Гб у меня обработались примерно за полторы минуты."
   ]
  },
  {
   "cell_type": "code",
   "execution_count": 4,
   "metadata": {
    "collapsed": false
   },
   "outputs": [
    {
     "name": "stdout",
     "output_type": "stream",
     "text": [
      "10000000it [01:20, 123690.31it/s]\n",
      "4389054 lines selected, 15 lines corrupted.\n"
     ]
    }
   ],
   "source": [
    "!python preprocess.py stackoverflow.10kk.tsv stackoverflow.vw"
   ]
  },
  {
   "cell_type": "markdown",
   "metadata": {},
   "source": [
    "Поделите выборку на обучающую, проверочную и тестовую части в равной пропорции - по  1463018 в каждый файл. Перемешивать не надо, первые 1463018 строк должны пойти в обучающую часть `stackoverflow_train.vw`, последние 1463018 – в тестовую `stackoverflow_test.vw`, оставшиеся – в проверочную `stackoverflow_valid.vw`. \n",
    "\n",
    "Также сохраните векторы ответов для проверочной и тестовой выборки в отдельные файлы `stackoverflow_valid_labels.txt` и `stackoverflow_test_labels.txt`.\n",
    "\n",
    "Тут вам помогут утилиты `head`, `tail`, `split`, `cat` и `cut`."
   ]
  },
  {
   "cell_type": "code",
   "execution_count": null,
   "metadata": {
    "collapsed": true
   },
   "outputs": [],
   "source": [
    "''' ВАШ КОД ЗДЕСЬ '''\n",
    "#!split -l 1463018 stackoverflow.vw stackoverflow\n",
    "#mv all files"
   ]
  },
  {
   "cell_type": "markdown",
   "metadata": {},
   "source": [
    "### 2.4. Обучение и проверка моделей"
   ]
  },
  {
   "cell_type": "markdown",
   "metadata": {},
   "source": [
    "Обучите Vowpal Wabbit на выборке `stackoverflow_train.vw` 9 раз, перебирая параметры passes (1,3,5), ngram (1,2,3).\n",
    "Остальные параметры укажите следующие: bit_precision=28 и seed=17. Также скажите VW, что это 10-классовая задача.\n",
    "\n",
    "Проверяйте долю правильных ответов на выборке `stackoverflow_valid.vw`. Выберите лучшую модель и проверьте качество на выборке `stackoverflow_test.vw`."
   ]
  },
  {
   "cell_type": "code",
   "execution_count": 15,
   "metadata": {
    "collapsed": false
   },
   "outputs": [],
   "source": [
    "''' ВАШ КОД ЗДЕСЬ '''\n",
    "!vw -d stackoverflow_train.vw --oaa 10 --random_seed 17 -b 28 --ngram 1 --passes 1 -f stacktrain_model.vw --quiet"
   ]
  },
  {
   "cell_type": "code",
   "execution_count": 4,
   "metadata": {
    "collapsed": true
   },
   "outputs": [],
   "source": [
    "#validate\n",
    "!vw -i stacktrain_model.vw -t -d stackoverflow_valid.vw -p valid_1_1.txt --quiet"
   ]
  },
  {
   "cell_type": "code",
   "execution_count": null,
   "metadata": {
    "collapsed": false
   },
   "outputs": [],
   "source": [
    "!vw -d stackoverflow_train.vw --oaa 10 --random_seed 17 -b 28 --ngram 2 --passes 1 -f stacktrain_model12.vw --quiet\n",
    "#!vw -d stackoverflow_train.vw --oaa 10 --random_seed 17 -b 28 --ngram 3 --passes 1 -f stacktrain_model13.vw --quiet\n",
    "#!vw -d stackoverflow_train.vw --oaa 10 --random_seed 17 -b 28 --ngram 1 --passes 2 -f stacktrain_model21.vw --quiet\n",
    "#!vw -d stackoverflow_train.vw --oaa 10 --random_seed 17 -b 28 --ngram 2 --passes 2 -f stacktrain_model22.vw --quiet\n",
    "#!vw -d stackoverflow_train.vw --oaa 10 --random_seed 17 -b 28 --ngram 3 --passes 2 -f stacktrain_model23.vw --quiet\n",
    "#!vw -d stackoverflow_train.vw --oaa 10 --random_seed 17 -b 28 --ngram 1 --passes 3 -f stacktrain_model31.vw --quiet\n",
    "#!vw -d stackoverflow_train.vw --oaa 10 --random_seed 17 -b 28 --ngram 2 --passes 3 -f stacktrain_model32.vw --quiet\n",
    "#!vw -d stackoverflow_train.vw --oaa 10 --random_seed 17 -b 28 --ngram 3 --passes 3 -f stacktrain_model33.vw --quiet"
   ]
  },
  {
   "cell_type": "code",
   "execution_count": null,
   "metadata": {
    "collapsed": true
   },
   "outputs": [],
   "source": [
    "!vw -i stacktrain_model12.vw -t -d stackoverflow_valid.vw -p valid_1_2.txt --quiet\n",
    "!vw -i stacktrain_model13.vw -t -d stackoverflow_valid.vw -p valid_1_3.txt --quiet\n",
    "!vw -i stacktrain_model21.vw -t -d stackoverflow_valid.vw -p valid_2_1.txt --quiet\n",
    "!vw -i stacktrain_model22.vw -t -d stackoverflow_valid.vw -p valid_2_2.txt --quiet\n",
    "!vw -i stacktrain_model23.vw -t -d stackoverflow_valid.vw -p valid_2_3.txt --quiet\n",
    "!vw -i stacktrain_model31.vw -t -d stackoverflow_valid.vw -p valid_3_1.txt --quiet\n",
    "!vw -i stacktrain_model32.vw -t -d stackoverflow_valid.vw -p valid_3_2.txt --quiet\n",
    "!vw -i stacktrain_model33.vw -t -d stackoverflow_valid.vw -p valid_1_3.txt --quiet"
   ]
  },
  {
   "cell_type": "code",
   "execution_count": 14,
   "metadata": {
    "collapsed": false
   },
   "outputs": [
    {
     "name": "stdout",
     "output_type": "stream",
     "text": [
      "1463018 valid target lines\n",
      "1463018 test target lines\n",
      "CPU times: user 11.2 s, sys: 960 ms, total: 12.2 s\n",
      "Wall time: 12.2 s\n"
     ]
    }
   ],
   "source": [
    "%%time\n",
    "target_valid = []\n",
    "target_test = []\n",
    "\n",
    "lines = 0\n",
    "with open(\"stackoverflow_valid.vw\") as valid_file:\n",
    "    for line in valid_file:\n",
    "        lines+=1\n",
    "        splitted_line = line.split('|')\n",
    "        target_valid.append(splitted_line[0].strip())\n",
    "print(lines, \"valid target lines\") \n",
    "\n",
    "lines = 0\n",
    "with open(\"stackoverflow_test.vw\") as test_file:\n",
    "    for line in test_file:\n",
    "        lines+=1\n",
    "        splitted_line = line.split('|')\n",
    "        target_test.append(splitted_line[0].strip())\n",
    "print(lines, \"test target lines\")        "
   ]
  },
  {
   "cell_type": "code",
   "execution_count": 15,
   "metadata": {
    "collapsed": true
   },
   "outputs": [],
   "source": [
    "target_valid = [int(i) for i in target_valid]\n",
    "target_test = [int(i) for i in target_test]"
   ]
  },
  {
   "cell_type": "code",
   "execution_count": 16,
   "metadata": {
    "collapsed": false
   },
   "outputs": [
    {
     "data": {
      "text/plain": [
       "[2, 7, 5, 5, 6, 1, 7, 7, 7, 4]"
      ]
     },
     "execution_count": 16,
     "metadata": {},
     "output_type": "execute_result"
    }
   ],
   "source": [
    "target_valid[:10]"
   ]
  },
  {
   "cell_type": "code",
   "execution_count": 18,
   "metadata": {
    "collapsed": false
   },
   "outputs": [
    {
     "name": "stdout",
     "output_type": "stream",
     "text": [
      "valid_1_1.txt\n",
      "Accuracy for valid_1_1.txt : 0.9151849122840594\n",
      "valid_1_2.txt\n",
      "Accuracy for valid_1_2.txt : 0.9310705678262332\n",
      "valid_1_3.txt\n",
      "Accuracy for valid_1_3.txt : 0.32782166726588463\n",
      "valid_3_1.txt\n",
      "Accuracy for valid_3_1.txt : 0.9143797273854457\n",
      "valid_3_2.txt\n",
      "Accuracy for valid_3_2.txt : 0.9278320567484474\n",
      "valid_3_3.txt\n",
      "Accuracy for valid_3_3.txt : 0.9264240084537579\n",
      "valid_5_1.txt\n",
      "Accuracy for valid_5_1.txt : 0.9134077639509561\n",
      "valid_5_2.txt\n",
      "Accuracy for valid_5_2.txt : 0.9292154983739093\n",
      "valid_5_3.txt\n",
      "Accuracy for valid_5_3.txt : 0.9261902450960959\n",
      "Best accuracy is   valid_1_2.txt\n",
      "Best accuracy score is  0.931070567826\n"
     ]
    }
   ],
   "source": [
    "best_accuracy_score = 0\n",
    "best_accuracy_name = ''\n",
    "for pas in [1,3,5]:\n",
    "    for ngr in [1,2,3]:\n",
    "        filename = 'valid_'+ str(pas) +'_'+ str(ngr) +'.txt'\n",
    "        with open(filename) as pred_file:\n",
    "            valid_prediction = [int(label) \n",
    "                             for label in pred_file.readlines()]\n",
    "            print(filename)\n",
    "            #print(valid_prediction[:10])\n",
    "            #print(target_valid[:10])\n",
    "            accuracy = accuracy_score(target_valid, valid_prediction)\n",
    "            if accuracy > best_accuracy_score:\n",
    "                best_accuracy_score = accuracy\n",
    "                best_accuracy_name = filename\n",
    "            print(\"Accuracy for \" + filename + \" : {}\".format(accuracy))\n",
    "\n",
    "print(\"Best accuracy is  \", best_accuracy_name)\n",
    "print(\"Best accuracy score is \", best_accuracy_score)\n",
    "#print(\"AUC: {}\".format(round(roc_auc_score(target_valid, valid_prediction), 3)))"
   ]
  },
  {
   "cell_type": "markdown",
   "metadata": {},
   "source": [
    "<font color='red'> Вопрос 1.</font> Какое сочетание параметров дает наибольшую долю правильных ответов на проверочной выборке `stackoverflow_valid.vw`?\n",
    "- Биграммы и 3 прохода по выборке\n",
    "- Триграммы и 5 проходов по выборке\n",
    "- Биграммы и 1 проход по выборке - этот\n",
    "- Униграммы и 1 проход по выборке"
   ]
  },
  {
   "cell_type": "markdown",
   "metadata": {},
   "source": [
    "Проверьте лучшую (по доле правильных ответов на валидации) модель на тестовой выборке. "
   ]
  },
  {
   "cell_type": "code",
   "execution_count": 21,
   "metadata": {
    "collapsed": false
   },
   "outputs": [
    {
     "name": "stdout",
     "output_type": "stream",
     "text": [
      "Accuracy for test : 0.93117582968904\n"
     ]
    }
   ],
   "source": [
    "''' ВАШ КОД ЗДЕСЬ '''\n",
    "#console - vw -i stacktrain_model12.vw -t -d stackoverflow_test.vw -p test_1_2.txt\n",
    "\n",
    "filename = 'test_1_2.txt'\n",
    "test_accuracy_1_2 = 0\n",
    "with open(filename) as pred_file:\n",
    "    valid_prediction = [int(label) \n",
    "        for label in pred_file.readlines()]\n",
    "    test_accuracy_1_2 = accuracy_score(target_test, valid_prediction)\n",
    "print(\"Accuracy for test\" + \" : {}\".format(test_accuracy_1_2))"
   ]
  },
  {
   "cell_type": "code",
   "execution_count": 22,
   "metadata": {
    "collapsed": false
   },
   "outputs": [
    {
     "data": {
      "text/plain": [
       "0.00010526186280679362"
      ]
     },
     "execution_count": 22,
     "metadata": {},
     "output_type": "execute_result"
    }
   ],
   "source": [
    "test_accuracy_1_2 - best_accuracy_score"
   ]
  },
  {
   "cell_type": "markdown",
   "metadata": {},
   "source": [
    "<font color='red'> Вопрос 2.</font> Как соотносятся доли правильных ответов лучшей (по доле правильных ответов на валидации) модели на проверочной и на тестовой выборках? (здесь % – это процентный пункт, т.е., скажем, снижение с 50% до 40% – это на 10%, а не 20%).\n",
    "- На тестовой ниже примерно на 2%\n",
    "- На тестовой ниже примерно на 3%\n",
    "- Результаты почти одинаковы – отличаются меньше чем на 0.5% - этот. на тесте вообще вышло лучше о_О"
   ]
  },
  {
   "cell_type": "markdown",
   "metadata": {},
   "source": [
    "Обучите VW с параметрами, подобранными на проверочной выборке, теперь на объединении обучающей и проверочной выборок. Посчитайте долю правильных ответов на тестовой выборке. "
   ]
  },
  {
   "cell_type": "code",
   "execution_count": 23,
   "metadata": {
    "collapsed": false
   },
   "outputs": [
    {
     "name": "stdout",
     "output_type": "stream",
     "text": [
      "Accuracy for uni : 0.9869810214228396\n"
     ]
    }
   ],
   "source": [
    "''' ВАШ КОД ЗДЕСЬ '''\n",
    "#обучаем\n",
    "#console - vw -d stackoverflow_uni.vw --oaa 10 --random_seed 17 -b 28 --ngram 2 --passes 1 -f stackuni_model.vw\n",
    "\n",
    "#предсказываем для valid - на всякий случай\n",
    "#console - vw -i stackuni_model.vw -t -d stackoverflow_valid.vw -p valid_uni.txt\n",
    "\n",
    "filename = 'valid_uni.txt'\n",
    "uni_valid_accuracy = 0\n",
    "with open(filename) as pred_file:\n",
    "    valid_prediction = [int(label) \n",
    "        for label in pred_file.readlines()]\n",
    "    uni_valid_accuracy = accuracy_score(target_valid, valid_prediction)\n",
    "print(\"Accuracy for uni\" + \" : {}\".format(uni_valid_accuracy))"
   ]
  },
  {
   "cell_type": "code",
   "execution_count": 25,
   "metadata": {
    "collapsed": false
   },
   "outputs": [
    {
     "name": "stdout",
     "output_type": "stream",
     "text": [
      "Accuracy for uni : 0.9352892445615844\n"
     ]
    }
   ],
   "source": [
    "#прескажем для тест\n",
    "#console - vw -i stackuni_model.vw -t -d stackoverflow_test.vw -p test_uni.txt\n",
    "\n",
    "filename = 'test_uni.txt'\n",
    "uni_test_accuracy = 0\n",
    "with open(filename) as pred_file:\n",
    "    valid_prediction = [int(label) \n",
    "        for label in pred_file.readlines()]\n",
    "    uni_test_accuracy = accuracy_score(target_test, valid_prediction)\n",
    "print(\"Accuracy for uni\" + \" : {}\".format(uni_test_accuracy))"
   ]
  },
  {
   "cell_type": "code",
   "execution_count": 26,
   "metadata": {
    "collapsed": false
   },
   "outputs": [
    {
     "data": {
      "text/plain": [
       "0.004113414872544352"
      ]
     },
     "execution_count": 26,
     "metadata": {},
     "output_type": "execute_result"
    }
   ],
   "source": [
    "uni_test_accuracy - test_accuracy_1_2"
   ]
  },
  {
   "cell_type": "markdown",
   "metadata": {},
   "source": [
    "<font color='red'> Вопрос 3.</font> На сколько процентных пунктов повысилась доля правильных ответов модели после обучения на вдвое большей выборке (обучающая `stackoverflow_train.vw` + проверочная `stackoverflow_valid.vw`) по сравнению с моделью, обученной только на `stackoverflow_train.vw`?\n",
    " - 0.1%\n",
    " - 0.4% - этот\n",
    " - 0.8%\n",
    " - 1.2%"
   ]
  },
  {
   "cell_type": "markdown",
   "metadata": {},
   "source": [
    "### 2.5. Заключение"
   ]
  },
  {
   "cell_type": "markdown",
   "metadata": {},
   "source": [
    "В этом задании мы только познакомились с Vowpal Wabbit. Что еще можно попробовать:\n",
    " - Классификация с несколькими ответами (multilabel classification, аргумент  `multilabel_oaa`) – формат данных тут как раз под такую задачу\n",
    " - Настройка параметров VW с hyperopt, авторы библиотеки утверждают, что качество должно сильно зависеть от параметров изменения шага градиентного спуска (`initial_t` и `power_t`). Также можно потестировать разные функции потерь – обучать логистическую регресиию или линейный SVM\n",
    " - Познакомиться с факторизационными машинами и их реализацией в VW (аргумент `lrq`)"
   ]
  }
 ],
 "metadata": {
  "kernelspec": {
   "display_name": "Python 3",
   "language": "python",
   "name": "python3"
  },
  "language_info": {
   "codemirror_mode": {
    "name": "ipython",
    "version": 3
   },
   "file_extension": ".py",
   "mimetype": "text/x-python",
   "name": "python",
   "nbconvert_exporter": "python",
   "pygments_lexer": "ipython3",
   "version": "3.6.0"
  }
 },
 "nbformat": 4,
 "nbformat_minor": 2
}
